{
  "nbformat": 4,
  "nbformat_minor": 0,
  "metadata": {
    "colab": {
      "provenance": [],
      "toc_visible": true
    },
    "kernelspec": {
      "name": "python3",
      "display_name": "Python 3"
    },
    "language_info": {
      "name": "python"
    }
  },
  "cells": [
    {
      "cell_type": "markdown",
      "source": [
        "#<p align = \"Center\">***UNIVERSIDAD SERGIO ARBOLEDA***\n"
      ],
      "metadata": {
        "id": "O5JJMr1tTpln"
      }
    },
    {
      "cell_type": "markdown",
      "source": [
        "<img src = \"https://economiapce.files.wordpress.com/2022/05/universidadsergioarboleda.jpg\" width = \"600px\" align = 'Right'> "
      ],
      "metadata": {
        "id": "vHlH_tX-XaRR"
      }
    },
    {
      "cell_type": "markdown",
      "source": [
        "# **Parcial 3 Parallel and Distributed Computing**\n",
        "## Autor: Daniel Esteban Molina Sanchez\n",
        "## Programa: Ciencias de la Computacion e Inteligencia Artificial\n",
        "## Fecha: 21 de Noviembre de 2022\n",
        "## Tema: Alto rendimiento con Cython\n",
        "## Materia: Parallel and Distributed Computing"
      ],
      "metadata": {
        "id": "Z7PhYxBJQOo1"
      }
    },
    {
      "cell_type": "markdown",
      "source": [
        "# *Biografia del Autor*:\n",
        "><p align = \"justify\">Daniel Esteban Molina Sanchez al momento de escribir este informe es un estudiante de ciencias de la computacion e inteligencia artificial el cual cursa actualmente el octavo semestre a fecha de noviembre del 2022. graduado del instituo de educacion preescolar y secundaria Inelpres a sus quince años, Daniel Molina decidio estudiar la carrera de ingenieria de Sistemas en la universidad Sergio Arboleda, llevado por la promesa de un futuro mejor, Daniel, comenzo su carrera universitaria en 2019, llevando la mayoria de sus proyectos con exito. Cuando la universidad cambió de pensum decidio irse por las ciencias de la computacion e inteligencia artificial, guiandose por lo mas vanguardista en la industria. En la actualidad Daniel Esteban Molina Sanchez piensa terminar su carrera pronto para comenzar su futuro profesional."
      ],
      "metadata": {
        "id": "9FYUIh4wYtu6"
      }
    },
    {
      "cell_type": "markdown",
      "source": [
        "# *Contexto*\n"
      ],
      "metadata": {
        "id": "reQHvdvEahlg"
      }
    },
    {
      "cell_type": "markdown",
      "source": [
        "<p align = \"justify\"> Python es un lenguaje de alto nivel interpretado y multiparadigma el cual se ha vuelto muy dominante y popular entre los programadores debido a las facilidades en su sintaxis y alta legibilidad en su codigo, gracias a esto, se convierte en un lenguaje en el cual es muy comodo de manejar y ademas proporciona al programador de distintas herramientas incluidas en librerias las cuales son muy utiles a la hora de hacer analisis de datos, como por ejemplo, pandas o sklearn, por ultimo cabe destacar que Python es un lenguaje \"Dinamicamente tipeado\" lo que hace que sea muy comodo de trabajar.\n",
        "<p align = \"justify\"> Sin embargo estas ventajas vienen con una reduccion en los tiempos de ejecucion, para algunas personas dichos tiempos no significan mucho ya que son programas pequeños los cuales no requieren de demasiado tiempo de ejecucion para funcionar, pero para los programas mas grandes y los que requieren de mas trabajo dicho tiempo significa en una reduccion de la eficacia del programa, lo cual hace que Python pueda no ser una opcion muy atractiva a la hora de programar.\n",
        "\n",
        "[1]"
      ],
      "metadata": {
        "id": "JpogLVvnUPnM"
      }
    },
    {
      "cell_type": "markdown",
      "source": [
        "<p align = \"justify\"> C es un lenguaje de que utiliza datos estaticos que dispone de las estructuras de un lenguaje de programacion de alto nivel mas sin embargo tambien tiene a su disposicion de estructuras las cuales permiten tener control a bajo nivel, es decir que puede tener acceso directo al hardware, por ende C permite el acceso directo a la memoria o a multiples dispositivos perifericos, es un lenguaje de programacion muy apreciado entre los programadores puesto que brinda una gran eficiencia en sus programas y permite un gran control de los tiempos de ejecucion\n",
        "<p align = \"justify\"> Este gran control sobre la maquina viene con la desventaja de que C es un lenguaje que se considera \"Estaticamente Tipeado\" lo que quiere decir que se debe especificar implicitamente a la hora de declarar variables, ademas cabe destacar que C es un lenguaje en el que su sintaxis puede resultar un poco dificil para principiantes.\n",
        "\n",
        "[2]"
      ],
      "metadata": {
        "id": "PgxL8z57coeu"
      }
    },
    {
      "cell_type": "markdown",
      "source": [
        "### *Estaticamente Tipeado y Dinamicamente Tipeado*\n",
        "\n"
      ],
      "metadata": {
        "id": "7xu9pbEzboa9"
      }
    },
    {
      "cell_type": "markdown",
      "source": [
        "<p align = \"justify\">Aunque comunmente en el mundo de la informatica se suele referir a los lenguajes para clasificarlos como \"Debilmente tipeado\" y \"Fuertemente tipeado\" a la hora de creacion de este informe, no se hallo informacion concluyente de que los terminos en cuestion estuvieran declarados formalmente, lo que es aun peor, dichos terminos suelen ser ambiguos y su significado puede variar segun el autor.\n",
        "\n",
        "<p align = \"justify\">Para propositos de este informe, se usaran los terminos \"Estaticamente Tipeado\" y \"Dinamicamente Tipeado\" los cuales son terminos que si estan declarados entre la comunidad de programadores.\n",
        "\n",
        "\n",
        "><p align = \"justify\">Estaticamente Tipeado: Quiere decir que los tipos de datos estan siendo comprobados a la hora de compilacion y el tipo de dato que no este declarado estatico sera rechazado por el compilador, lo que quiere decir que siempre se debe declarar los tipos de variables.\n",
        "\n",
        "><p align = \"justify\">Dinamicamente Tipeado: Quiere decir que los tipos de datos estan siendo asignados a los valores al momento de ejecucion, en un intento de mezclar distintos tipos de datos puede llegar a tener un error. \n",
        "\n",
        "<p align = \"justify\">Estos terminos no logran clasificar con exactitud un lenguaje de programacion, pues es importante mencionar que hay algunos codigos que pueden lograr escapar esta definicion para un lenguaje. Sin embargo son mas precisos que especificar un lenguaje como \"Debilmente Tipeado\" o \"Fuertemente Tipeado\"\n",
        "\n",
        "\n",
        "[3]\n"
      ],
      "metadata": {
        "id": "8va3A_8XiA1U"
      }
    },
    {
      "cell_type": "markdown",
      "source": [
        "## Cython"
      ],
      "metadata": {
        "id": "KCz2lxC1ld-6"
      }
    },
    {
      "cell_type": "markdown",
      "source": [
        "<p align = \"justify\">Cython es un compilador estatico para Python, el cual hace que C y Python se combinen en un solo lenguaje\n",
        "\n",
        "<p align = \"justify\">Cython se resume como la combinacion de todo lo bueno que ofrece Python y C, entre sus ventajas esta la sencillez del sintax de Python pero que puede usar el codigo de C en cualquier momento, ademas, Cython añade toda la eficacia y buen desempeño de C, gracias a que añade las declaraciones estaticas propias de C.\n",
        "\n",
        "<p align = \"justify\">Cython permite al compilador generar codigo muy eficiente de C, aunque la sintaxis y la base del codigo se escriba en Python, el compilador se hace con \"CPython\" creando el lenguaje ideal que contenga la eficiencia de C junto con la sintaxis y facil lectura de Python\n",
        "\n",
        "[4]"
      ],
      "metadata": {
        "id": "1YzlpVUfm0Dq"
      }
    },
    {
      "cell_type": "markdown",
      "source": [
        "## Objetivo\n",
        "<p align = \"justify\">El objetivo del informe es demostrar la fiabilidad de Cython, junto a su buen desempeño, demostrando que solo se requiere de unos pequeños ajustes para que un codigo normal de Python pueda ejecutarse a una velocidad similar a la de C, de esta forma creando un excelente lenguaje de programacion en el cual se pueda juntar la buena y facil sintaxis de Python junto con la gran eficacia y fiabilidad de C.\n",
        "\n",
        "<p align = \"justify\">A continuacion se presentan dos algoritmos los cuales se escribieron inicialmente en Python, luego se conviriteron a Cython y por ultimo se ejecutaron cada uno para demostrar la eficiencia y comparar los resultados al ejecutar un programa en Python y luego ejecutar uno en Cython."
      ],
      "metadata": {
        "id": "VGSDqe1STV7u"
      }
    },
    {
      "cell_type": "markdown",
      "source": [
        "# Algoritmo 1 / Benchmark 1: Calculo de DVT(Distancia, Velocidad, Tiempo) para un objeto"
      ],
      "metadata": {
        "id": "cYizaAp5UHa3"
      }
    },
    {
      "cell_type": "markdown",
      "source": [
        "<p align = \"justify\">El primer algoritmo busca resolver problemas matematicos relacionados con el calculo de la velocidad, la distancia o el tiempo que conlleva a un objeto moverse de un punto a otro, suponiendo que un usuario cuenta con dos de los tres datos, el algoritmo calculara el tercero.\n",
        "\n",
        "><p align = \"justify\">Ejemplo: Si se cuenta con la distancia y el tiempo, el algoritmo es capaz de calcular la velocidad que le lleva a un objeto recorrer esa distancia y ese tiempo\n",
        "\n",
        "<p align = \"justify\">Se planteo que tambien el algoritmo, ademas, debe presentar los datos en varias unidades distintas, esto con el objetivo de que el usuario sea capaz de comprender el resultado de una manera facil y sencilla."
      ],
      "metadata": {
        "id": "q50SE3X8V53F"
      }
    },
    {
      "cell_type": "markdown",
      "source": [
        "A continuacion se muestra la solucion completa del algoritmo:"
      ],
      "metadata": {
        "id": "XJA7ZBmBYaY9"
      }
    },
    {
      "cell_type": "code",
      "source": [
        "## Autor: Daniel Esteban Molina Sanchez\n",
        "## Programa: Ciencias de la Computacion e Inteligencia Artificial\n",
        "## Fecha: 18 de Noviembre de 2022\n",
        "## Tema: Benchmark 01 para Parcial final\n",
        "## Materia: Parallel and Distributed Computing\n",
        "\n",
        "import random\n",
        "\n",
        "def cal_velocidad(dis, tiempo):\n",
        "    respuesta = dis / tiempo\n",
        "    respuesta2 = respuesta * 1000\n",
        "    print(\" VELOCIDAD \")\n",
        "    print(\"La velocidad es de\", respuesta, \"Kilometros por hora\")\n",
        "    print(\"La velocidad es de\", respuesta2, \"Metros por hora\")\n",
        "    print(\"\\n\")\n",
        "    return respuesta\n",
        " \n",
        "\n",
        "def cal_distancia(vel, tiempo):\n",
        "    respuesta = vel * tiempo\n",
        "    respuesta2 = respuesta * 1000\n",
        "    print(\" DISTANCIA \")\n",
        "    print(\"La distancia es de\", respuesta, \"Kilometros\")\n",
        "    print(\"La distancia es de\", respuesta2, \"Metros\")\n",
        "    print(\"\\n\")\n",
        "    return respuesta;\n",
        " \n",
        "def cal_tiempo(dis, vel):\n",
        "    respuesta = dis/vel\n",
        "    respuesta2 = respuesta * 60\n",
        "    print(\" TIEMPO  \")\n",
        "    print(\"Se tarda\", respuesta, \"horas o\")\n",
        "    print(\"Se tarda\", respuesta2, \"minutos\")\n",
        "    print(\"\\n\")\n",
        "    return respuesta\n",
        "\n",
        "def aleatorizar(valor):\n",
        "  valor = random.uniform(10.0,120.0)\n",
        "  return valor\n",
        "\n",
        "def main():\n",
        "  velocidad = 0.0\n",
        "  distancia = 0.0\n",
        "  #Tiempo constante, pues si se aleatoriza podria dar resultados muy exagerados\n",
        "  tiempo = 5.0\n",
        "  velocidad = aleatorizar(velocidad)\n",
        "  distancia = aleatorizar(distancia)\n",
        "  print(\"Velocidad(KM/Hrs): \",velocidad)\n",
        "  print(\"Distancia(KMs): \",distancia)\n",
        "  print(\"Tiempo(Hrs): \",tiempo)\n",
        "  print(\"\\n\")\n",
        "  cal_velocidad(distancia,tiempo)\n",
        "  cal_distancia(velocidad,tiempo)\n",
        "  cal_tiempo(distancia,velocidad)\n",
        "\n",
        "main()"
      ],
      "metadata": {
        "id": "1LEXl8I8uAJH"
      },
      "execution_count": null,
      "outputs": []
    },
    {
      "cell_type": "markdown",
      "source": [
        "## Analisis Benchmark 1:"
      ],
      "metadata": {
        "id": "RVxpR9WhY9Tr"
      }
    },
    {
      "cell_type": "markdown",
      "source": [
        "#### Funcion main"
      ],
      "metadata": {
        "id": "qGtrESrKcdeT"
      }
    },
    {
      "cell_type": "markdown",
      "source": [
        "Comenzando con la funcion *main* del algoritmo:\n",
        "\n",
        "```python\n",
        "def main():\n",
        "  velocidad = 0.0\n",
        "  distancia = 0.0\n",
        "  #Tiempo constante, pues si se aleatoriza podria dar resultados muy exagerados\n",
        "  tiempo = 5.0\n",
        "  velocidad = aleatorizar(velocidad)\n",
        "  distancia = aleatorizar(distancia)\n",
        "  print(\"Velocidad(KM/Hrs): \",velocidad)\n",
        "  print(\"Distancia(KMs): \",distancia)\n",
        "  print(\"Tiempo(Hrs): \",tiempo)\n",
        "  print(\"\\n\")\n",
        "  cal_velocidad(distancia,tiempo)\n",
        "  cal_distancia(velocidad,tiempo)\n",
        "  cal_tiempo(distancia,velocidad)\n",
        "```\n",
        "Lo primero que el algoritmo realiza es la creacion de las variables velocidad, distancia y tiempo. Para luego llevar las variables a una funcion llamada aleatorizar, en las cuales como su nombre indica, se busca aleatorizar dichos valores. \n",
        "\n",
        ">Aunque la velocidad y distancia se inicializan en cero y se llevan a la funcion aleatorizar para que sus valores sean cambiados al azar, el tiempo se mantiene constante en 5. esto se realizo despues de multiples experimentos en los cuales se llego a la conclusion de que si se aleatoriza el tiempo, este puede llevar a resultados muy caoticos los cuales no aportarian nada al experimento.\n",
        "\n",
        "Luego se imprimen los valores con los cuales se ejecutara el algoritmo, con sus respectivas unidades para su facil comprension.\n",
        "```python\n",
        "  ...\n",
        "  print(\"Velocidad(KM/Hrs): \",velocidad)\n",
        "  print(\"Distancia(KMs): \",distancia)\n",
        "  print(\"Tiempo(Hrs): \",tiempo)\n",
        "  print(\"\\n\")\n",
        "  ...\n",
        "```\n",
        "\n",
        "Por ultimo se ejecutan las tres funciones las cuales son clave del algoritmo, estas funciones son lass que realizaran los calculos para obtener la velocidad, la distancia y el tiempo respectivamente.\n",
        "\n",
        "```python\n",
        "  ...\n",
        "  cal_velocidad(distancia,tiempo)\n",
        "  cal_distancia(velocidad,tiempo)\n",
        "  cal_tiempo(distancia,velocidad)\n",
        "```"
      ],
      "metadata": {
        "id": "jboeIYL5bcbc"
      }
    },
    {
      "cell_type": "markdown",
      "source": [
        "#### Funciones para calcular la velocidad, distancia y el tiempo"
      ],
      "metadata": {
        "id": "UIEEndCfdfb0"
      }
    },
    {
      "cell_type": "markdown",
      "source": [
        ">Debido a las similitudes entre estas funciones, su analisis se realizará en misma seccion\n",
        "\n",
        "Para las funciones de los calculos se piden como parametros la distancia y el tiempo\n",
        "\n",
        "```python\n",
        "def cal_velocidad(dis, tiempo):\n",
        "    respuesta = dis / tiempo\n",
        "    respuesta2 = respuesta * 1000\n",
        "    print(\" VELOCIDAD \")\n",
        "    print(\"La velocidad es de\", respuesta, \"Kilometros por hora\")\n",
        "    print(\"La velocidad es de\", respuesta2, \"Metros por hora\")\n",
        "    print(\"\\n\")\n",
        "    return respuesta\n",
        "```\n",
        "\n",
        "Las funciones para realizar los calculos se dividen en tres partes\n",
        "\n",
        "```python\n",
        "def cal_velocidad(dis, tiempo):\n",
        "    respuesta = dis / tiempo\n",
        "    ...\n",
        "```\n",
        "\n",
        "Primero se realiza el calculo que se requiere, en este caso la velocidad y se asigna a una variable llamada *respuesta*\n",
        "\n",
        "```python\n",
        "    ...\n",
        "    respuesta2 = respuesta * 1000\n",
        "    ...\n",
        "```\n",
        "\n",
        "Luego se realiza la transformacion del dato a una variable que pueda ser mas facil de leer\n",
        "\n",
        "```python\n",
        "    ...\n",
        "    print(\" VELOCIDAD \")\n",
        "    print(\"La velocidad es de\", respuesta, \"Kilometros por hora\")\n",
        "    print(\"La velocidad es de\", respuesta2, \"Metros por hora\")\n",
        "    print(\"\\n\")\n",
        "    return respuesta\n",
        "```\n",
        "\n",
        "Por ultimo se imprimen ambos resultados, tanto la respuesta original como aquella que fue convertida a una unidad inferior para su facil lectura.\n",
        "\n",
        "Se retorna la respuesta inicial puesto que es la unidad con la que se trabaja inicialmente, es decir los kilometros por hora, ademas de ser la unidad mas estandar utilizada para realizar calculos\n",
        "\n",
        "-------------------------------------\n",
        "\n",
        "\n",
        "Las funciones de tiempo y distancia estan construidas exactamente igual, solo que con los cambios respectivos en sus calculos, a continuacion se muestran dichas funciones:\n",
        "\n",
        "```python\n",
        "def cal_distancia(vel, tiempo):\n",
        "    respuesta = vel * tiempo\n",
        "    respuesta2 = respuesta * 1000\n",
        "    print(\" DISTANCIA \")\n",
        "    print(\"La distancia es de\", respuesta, \"Kilometros\")\n",
        "    print(\"La distancia es de\", respuesta2, \"Metros\")\n",
        "    print(\"\\n\")\n",
        "    return respuesta;\n",
        "```\n",
        "\n",
        "Para el calculo de la distancia la unica diferencia esta en su formula y su conversion, como se puede observar\n",
        "\n",
        "```python\n",
        "def cal_tiempo(dis, vel):\n",
        "    respuesta = dis/vel\n",
        "    respuesta2 = respuesta * 60\n",
        "    print(\" TIEMPO  \")\n",
        "    print(\"Se tarda\", respuesta, \"horas o\")\n",
        "    print(\"Se tarda\", respuesta2, \"minutos\")\n",
        "    print(\"\\n\")\n",
        "    return respuesta\n",
        "```\n",
        "\n",
        "Similarmente para el calculo del tiempo, su unica diferencia con las demas es su formula y su conversion."
      ],
      "metadata": {
        "id": "8TeOui-9d3si"
      }
    },
    {
      "cell_type": "markdown",
      "source": [
        "#### Funcion aleatorizar"
      ],
      "metadata": {
        "id": "293twXoNchSa"
      }
    },
    {
      "cell_type": "markdown",
      "source": [
        "A continuacion se muestra la funcion de aleatorizar:\n",
        "\n",
        "```python\n",
        "import random\n",
        "...\n",
        "```\n",
        "\n",
        "Inicialmente se importa la libreria random, aunque dicha libreria no sea necesaria para el funcionamiento del algoritmo, se importo para que se pudieran realizar multiples experimentos de forma rapida y sencilla, asi se pudieron ejecutar varias pruebas con distintos valores de forma rapida.\n",
        "\n",
        "Dicha libreria es solo utilizada en la funcion *aleatorizar* como se muestra a continuacion:\n",
        "```python\n",
        "def aleatorizar(valor):\n",
        "  valor = random.uniform(10.0,120.0)\n",
        "  return valor\n",
        "```\n",
        "La funcion *aleatorizar* recibe un valor como parametro, este valor es la variable la cual el usuario decide aleatorizar, dentro de la funcion se encuentra una asignacion de variable la cual usando *random.uniform* se le asigna un valor aleatorio <i>**flotante**</i> dentro de un rango de 10.0 a 120.0. Para finalizar la funcion retorna la variable ya aleatorizada para que esta pueda ser usada. \n"
      ],
      "metadata": {
        "id": "o82u5oJnZLOL"
      }
    },
    {
      "cell_type": "markdown",
      "source": [
        "### Resultados de el algoritmo"
      ],
      "metadata": {
        "id": "_Io0WN1hy7Kw"
      }
    },
    {
      "cell_type": "code",
      "source": [
        "## Autor: Daniel Esteban Molina Sanchez\n",
        "## Programa: Ciencias de la Computacion e Inteligencia Artificial\n",
        "## Fecha: 18 de Noviembre de 2022\n",
        "## Tema: Benchmark 01 \n",
        "## Materia: Parallel and Distributed Computing\n",
        "\n",
        "import random\n",
        "\n",
        "def cal_velocidad(dis, tiempo):\n",
        "    respuesta = dis / tiempo\n",
        "    respuesta2 = respuesta * 1000\n",
        "    print(\" VELOCIDAD \")\n",
        "    print(\"La velocidad es de\", respuesta, \"Kilometros por hora\")\n",
        "    print(\"La velocidad es de\", respuesta2, \"Metros por hora\")\n",
        "    print(\"\\n\")\n",
        "    return respuesta\n",
        " \n",
        "\n",
        "def cal_distancia(vel, tiempo):\n",
        "    respuesta = vel * tiempo\n",
        "    respuesta2 = respuesta * 1000\n",
        "    print(\" DISTANCIA \")\n",
        "    print(\"La distancia es de\", respuesta, \"Kilometros\")\n",
        "    print(\"La distancia es de\", respuesta2, \"Metros\")\n",
        "    print(\"\\n\")\n",
        "    return respuesta;\n",
        " \n",
        "def cal_tiempo(dis, vel):\n",
        "    respuesta = dis/vel\n",
        "    respuesta2 = respuesta * 60\n",
        "    print(\" TIEMPO  \")\n",
        "    print(\"Se tarda\", respuesta, \"horas o\")\n",
        "    print(\"Se tarda\", respuesta2, \"minutos\")\n",
        "    print(\"\\n\")\n",
        "    return respuesta\n",
        "\n",
        "def aleatorizar(valor):\n",
        "  valor = random.uniform(10.0,120.0)\n",
        "  return valor\n",
        "\n",
        "def main():\n",
        "  velocidad = 0.0\n",
        "  distancia = 0.0\n",
        "  #Tiempo constante, pues si se aleatoriza podria dar resultados muy exagerados\n",
        "  tiempo = 5.0\n",
        "  velocidad = aleatorizar(velocidad)\n",
        "  distancia = aleatorizar(distancia)\n",
        "  print(\"Velocidad(KM/Hrs): \",velocidad)\n",
        "  print(\"Distancia(KMs): \",distancia)\n",
        "  print(\"Tiempo(Hrs): \",tiempo)\n",
        "  print(\"\\n\")\n",
        "  cal_velocidad(distancia,tiempo)\n",
        "  cal_distancia(velocidad,tiempo)\n",
        "  cal_tiempo(distancia,velocidad)\n",
        "\n",
        "main()"
      ],
      "metadata": {
        "colab": {
          "base_uri": "https://localhost:8080/"
        },
        "id": "R6v4my8_y-ev",
        "outputId": "801f1fb9-94a9-4e2d-9da0-b9de1cd9d1eb"
      },
      "execution_count": 1,
      "outputs": [
        {
          "output_type": "stream",
          "name": "stdout",
          "text": [
            "Velocidad(KM/Hrs):  79.40123863714676\n",
            "Distancia(KMs):  35.080768385174764\n",
            "Tiempo(Hrs):  5.0\n",
            "\n",
            "\n",
            " VELOCIDAD \n",
            "La velocidad es de 7.016153677034953 Kilometros por hora\n",
            "La velocidad es de 7016.153677034953 Metros por hora\n",
            "\n",
            "\n",
            " DISTANCIA \n",
            "La distancia es de 397.0061931857338 Kilometros\n",
            "La distancia es de 397006.1931857338 Metros\n",
            "\n",
            "\n",
            " TIEMPO  \n",
            "Se tarda 0.4418163870904996 horas o\n",
            "Se tarda 26.508983225429976 minutos\n",
            "\n",
            "\n"
          ]
        }
      ]
    },
    {
      "cell_type": "markdown",
      "source": [
        "Como se muestra, el algoritmo funciona segun se esperaba, como primera parte muestra los datos obtenidos luego de ser aleatorizados, luego muestra los calculos obtenidos para la velocidad, la distancia y el tiempo."
      ],
      "metadata": {
        "id": "dpz5lphRzqNO"
      }
    },
    {
      "cell_type": "markdown",
      "source": [
        "**Cabe destacar que los resultados y los calculos son hechos tomando en cuenta que el objeto se mueve a una velocidad constante sobre una recta, sin obstaculos que lo detengan o lo hagan tomar desvios**"
      ],
      "metadata": {
        "id": "bEMpw17w16wS"
      }
    },
    {
      "cell_type": "markdown",
      "source": [
        "La interpretacion de los resultados es la siguiente:\n",
        "> Para los calculos de velocidad, segun este ejemplo, podemos decir que para recorrer 35 KMs en 5 horas, un objeto debe moverse a 7 KM/H, como se muestra en el apartado de resultados en la velocidad, o tambien podemos decir, que debe ir a 7000 Metros por hora\n",
        "\n",
        "> La intepretacion del calculo de la distancia es que, cuando un objeto se mueve a una velocidad determinada, en este ejemplo a 79 KM/H, cuanta distancia recorrera en las 5 horas si consideramos que el objeto se mueve a una velocidad constante sobre una recta\n",
        "\n",
        "> Para interpretar el tiempo, el calculo nos muestra el tiempo que tardaria un objeto en moverse una distancia determinada, en este ejemplo es de 35 KMs, a una velocidad dada, en este caso de 79 KM/H\n",
        "\n",
        "**Conclusiones** : El algoritmo funciona correctamente, sin embargo se debe tomar la recomendacion de que este solo funciona si el objeto va a una velocidad constante y en una recta."
      ],
      "metadata": {
        "id": "xqbuWzgR0IIE"
      }
    },
    {
      "cell_type": "markdown",
      "source": [
        "-------------------------------------\n",
        "## Algoritmo 1 en Cython"
      ],
      "metadata": {
        "id": "WTkVF3Ng3aBv"
      }
    },
    {
      "cell_type": "code",
      "source": [
        "## Autor: Daniel Esteban Molina Sanchez\n",
        "## Programa: Ciencias de la Computacion e Inteligencia Artificial\n",
        "## Fecha: 18 de Noviembre de 2022\n",
        "## Tema: Benchmark 01 en Cython para Parcial final\n",
        "## Materia: Parallel and Distributed Computing\n",
        "import random\n",
        "cdef cal_velocidad(double dis,double tiempo):\n",
        "    cdef double respuesta, respuesta2\n",
        "    respuesta = dis / tiempo\n",
        "    respuesta2 = respuesta * 1000\n",
        "    print(\" VELOCIDAD \")\n",
        "    print(\"La velocidad es de\", respuesta, \"Kilometros por hora\")\n",
        "    print(\"La velocidad es de\", respuesta2, \"Metros por hora\")\n",
        "    print(\"\\n\")\n",
        "    return respuesta\n",
        " \n",
        "\n",
        "cdef cal_distancia(double vel,double tiempo):\n",
        "    cdef double respuesta, respuesta2\n",
        "    respuesta = vel * tiempo\n",
        "    respuesta2 = respuesta * 1000\n",
        "    print(\" DISTANCIA \")\n",
        "    print(\"La distancia es de\", respuesta, \"Kilometros\")\n",
        "    print(\"La distancia es de\", respuesta2, \"Metros\")\n",
        "    print(\"\\n\")\n",
        "    return respuesta;\n",
        " \n",
        "cdef cal_tiempo(double dis,double vel):\n",
        "    cdef double respuesta, respuesta2\n",
        "    respuesta = dis/vel\n",
        "    respuesta2 = respuesta * 60\n",
        "    print(\" TIEMPO  \")\n",
        "    print(\"Se tarda\", respuesta, \"horas o\")\n",
        "    print(\"Se tarda\", respuesta2, \"minutos\")\n",
        "    print(\"\\n\")\n",
        "    return respuesta\n",
        "\n",
        "cdef aleatorizar(double valor):\n",
        "  valor = random.uniform(10.0,120.0)\n",
        "  return valor\n",
        "\n",
        "cdef Cymain1():\n",
        "  cdef double velocidad = 0.0, distancia = 0.0, tiempo = 5.0\n",
        "  #Tiempo constante, pues si se aleatoriza podria dar resultados muy exagerados\n",
        "  velocidad = aleatorizar(velocidad)\n",
        "  distancia = aleatorizar(distancia)\n",
        "  print(\"Velocidad(KM/Hrs): \",velocidad)\n",
        "  print(\"Distancia(KMs): \",distancia)\n",
        "  print(\"Tiempo(Hrs): \",tiempo)\n",
        "  print(\"\\n\")\n",
        "  cal_velocidad(distancia,tiempo)\n",
        "  cal_distancia(velocidad,tiempo)\n",
        "  cal_tiempo(distancia,velocidad)\n",
        "\n",
        "Cymain1()\n"
      ],
      "metadata": {
        "id": "nNbjC4bi2tYc"
      },
      "execution_count": null,
      "outputs": []
    },
    {
      "cell_type": "markdown",
      "source": [
        "### Analisis Cython Algoritmo 1"
      ],
      "metadata": {
        "id": "4BlZLQfm2r_2"
      }
    },
    {
      "cell_type": "markdown",
      "source": [
        "Las principales diferencias como se es de esperar por que C es un lenguaje estaticamente tipeado, se encuentran en las declaraciones de las variables, a continuacion se muestran algunas:\n",
        "\n",
        "```python\n",
        "def Cymain1():\n",
        "  cdef double velocidad = 0.0, distancia = 0.0, tiempo = 5.0\n",
        "  #Tiempo constante, pues si se aleatoriza podria dar resultados muy exagerados\n",
        "  velocidad = aleatorizar(velocidad)\n",
        "  distancia = aleatorizar(distancia)\n",
        "  ...\n",
        "```\n",
        "\n",
        "En el algoritmo se declaran las variables como estaticas, como doubles usando *cdef* para que Cython comprenda que se declara un tipo de dato estatico como se haria en C.\n",
        "\n"
      ],
      "metadata": {
        "id": "qWGlv8s13pfG"
      }
    },
    {
      "cell_type": "markdown",
      "source": [
        "Los resultados son los mismos, sin embargo en Cython los tiempos de ejecucion son mucho menores gracias a las declaraciones de los datos los cuales ayudan mucho a la hora de optimizar el codigo.\n"
      ],
      "metadata": {
        "id": "S8wgrQye_K0d"
      }
    },
    {
      "cell_type": "markdown",
      "source": [
        "## Medida de Rendimiento Algoritmo 1"
      ],
      "metadata": {
        "id": "oUVRuxh5_aRj"
      }
    },
    {
      "cell_type": "markdown",
      "source": [
        "Para demostrar el rendimiento y optimizacion que ofrece Cython sobre un codigo de Python normal, se ejecutara el algoritmo con 30 cargas, lo cual hara que se muestren 30 resultados por cada algoritmo, es decir 30 para Cython y 30 para Python\n",
        "\n",
        "Haciendo uso de la libreria *time* se medirá el tiempo de ejecucion de cada uno de los algoritmos con la finalidad de compararlos, luego se mostrara el analisis realizado para cada uno.\n",
        "\n",
        "Los resultados de las cargas se presetan en un formato de CSV, es decir con los datos en forma de tabla, luego usando las librerias de Python para trabajar sobre dataframes se mostraran los datos.\n",
        "\n",
        "Para lograr almacenar los resultados se exportaron como un archivo de texto (.txt) en el cual se encontraban los tiempos de ejecucion, luego se convirtio ese archivo de texto a CSV para su facil lectura.\n",
        "\n",
        ">Para la muestra de los datos se almacenara en un dataframe de pandas para su lectura"
      ],
      "metadata": {
        "id": "dfy-wjzK_hIn"
      }
    },
    {
      "cell_type": "markdown",
      "source": [
        "**Se importa el archivo CSV desde Google Drive a Collab**"
      ],
      "metadata": {
        "id": "_P1QtBlAKCH5"
      }
    },
    {
      "cell_type": "code",
      "source": [
        "import pandas as pd \n",
        "from google.colab import drive \n",
        "drive.mount('/content/gdrive')\n",
        "Algoritmo1=pd.read_csv('/content/gdrive/MyDrive/Colab Notebooks/Parallel and Distributed Computing/Parcial Final/Tiempos-de-ejecucion-algoritmo1.csv')"
      ],
      "metadata": {
        "colab": {
          "base_uri": "https://localhost:8080/"
        },
        "id": "ux_6xCr6AXZx",
        "outputId": "cfd0bce6-6e5c-4fbd-fa84-13c5c771a1ab"
      },
      "execution_count": 7,
      "outputs": [
        {
          "output_type": "stream",
          "name": "stdout",
          "text": [
            "Drive already mounted at /content/gdrive; to attempt to forcibly remount, call drive.mount(\"/content/gdrive\", force_remount=True).\n"
          ]
        }
      ]
    },
    {
      "cell_type": "code",
      "source": [
        "Algoritmo1"
      ],
      "metadata": {
        "colab": {
          "base_uri": "https://localhost:8080/",
          "height": 990
        },
        "id": "Jj6wUIV4lvIj",
        "outputId": "dcee3767-3016-4ad0-ece0-687f411c3800"
      },
      "execution_count": 8,
      "outputs": [
        {
          "output_type": "execute_result",
          "data": {
            "text/plain": [
              "    Python    Cython\n",
              "0    13.03  3.908522\n",
              "1    13.56  4.069074\n",
              "2    13.27  3.980374\n",
              "3    13.96  4.188317\n",
              "4    13.27  3.979634\n",
              "5    13.62  4.085355\n",
              "6    13.62  4.085858\n",
              "7    13.90  4.170375\n",
              "8    13.99  4.195776\n",
              "9    13.81  4.141865\n",
              "10   13.52  4.055064\n",
              "11   13.35  4.005513\n",
              "12   13.40  4.021455\n",
              "13   13.24  3.971245\n",
              "14   13.42  4.027272\n",
              "15   13.67  4.099761\n",
              "16   13.03  3.908803\n",
              "17   13.06  3.917617\n",
              "18   13.02  3.907250\n",
              "19   13.56  4.066644\n",
              "20   13.65  4.096335\n",
              "21   13.73  4.118519\n",
              "22   13.70  4.111014\n",
              "23   13.61  4.082768\n",
              "24   13.15  3.945644\n",
              "25   13.59  4.076789\n",
              "26   13.04  3.911915\n",
              "27   13.02  3.905630\n",
              "28   13.25  3.974430\n",
              "29   13.48  4.044013"
            ],
            "text/html": [
              "\n",
              "  <div id=\"df-a2c60199-f513-4b1c-b78f-3ea35b353b84\">\n",
              "    <div class=\"colab-df-container\">\n",
              "      <div>\n",
              "<style scoped>\n",
              "    .dataframe tbody tr th:only-of-type {\n",
              "        vertical-align: middle;\n",
              "    }\n",
              "\n",
              "    .dataframe tbody tr th {\n",
              "        vertical-align: top;\n",
              "    }\n",
              "\n",
              "    .dataframe thead th {\n",
              "        text-align: right;\n",
              "    }\n",
              "</style>\n",
              "<table border=\"1\" class=\"dataframe\">\n",
              "  <thead>\n",
              "    <tr style=\"text-align: right;\">\n",
              "      <th></th>\n",
              "      <th>Python</th>\n",
              "      <th>Cython</th>\n",
              "    </tr>\n",
              "  </thead>\n",
              "  <tbody>\n",
              "    <tr>\n",
              "      <th>0</th>\n",
              "      <td>13.03</td>\n",
              "      <td>3.908522</td>\n",
              "    </tr>\n",
              "    <tr>\n",
              "      <th>1</th>\n",
              "      <td>13.56</td>\n",
              "      <td>4.069074</td>\n",
              "    </tr>\n",
              "    <tr>\n",
              "      <th>2</th>\n",
              "      <td>13.27</td>\n",
              "      <td>3.980374</td>\n",
              "    </tr>\n",
              "    <tr>\n",
              "      <th>3</th>\n",
              "      <td>13.96</td>\n",
              "      <td>4.188317</td>\n",
              "    </tr>\n",
              "    <tr>\n",
              "      <th>4</th>\n",
              "      <td>13.27</td>\n",
              "      <td>3.979634</td>\n",
              "    </tr>\n",
              "    <tr>\n",
              "      <th>5</th>\n",
              "      <td>13.62</td>\n",
              "      <td>4.085355</td>\n",
              "    </tr>\n",
              "    <tr>\n",
              "      <th>6</th>\n",
              "      <td>13.62</td>\n",
              "      <td>4.085858</td>\n",
              "    </tr>\n",
              "    <tr>\n",
              "      <th>7</th>\n",
              "      <td>13.90</td>\n",
              "      <td>4.170375</td>\n",
              "    </tr>\n",
              "    <tr>\n",
              "      <th>8</th>\n",
              "      <td>13.99</td>\n",
              "      <td>4.195776</td>\n",
              "    </tr>\n",
              "    <tr>\n",
              "      <th>9</th>\n",
              "      <td>13.81</td>\n",
              "      <td>4.141865</td>\n",
              "    </tr>\n",
              "    <tr>\n",
              "      <th>10</th>\n",
              "      <td>13.52</td>\n",
              "      <td>4.055064</td>\n",
              "    </tr>\n",
              "    <tr>\n",
              "      <th>11</th>\n",
              "      <td>13.35</td>\n",
              "      <td>4.005513</td>\n",
              "    </tr>\n",
              "    <tr>\n",
              "      <th>12</th>\n",
              "      <td>13.40</td>\n",
              "      <td>4.021455</td>\n",
              "    </tr>\n",
              "    <tr>\n",
              "      <th>13</th>\n",
              "      <td>13.24</td>\n",
              "      <td>3.971245</td>\n",
              "    </tr>\n",
              "    <tr>\n",
              "      <th>14</th>\n",
              "      <td>13.42</td>\n",
              "      <td>4.027272</td>\n",
              "    </tr>\n",
              "    <tr>\n",
              "      <th>15</th>\n",
              "      <td>13.67</td>\n",
              "      <td>4.099761</td>\n",
              "    </tr>\n",
              "    <tr>\n",
              "      <th>16</th>\n",
              "      <td>13.03</td>\n",
              "      <td>3.908803</td>\n",
              "    </tr>\n",
              "    <tr>\n",
              "      <th>17</th>\n",
              "      <td>13.06</td>\n",
              "      <td>3.917617</td>\n",
              "    </tr>\n",
              "    <tr>\n",
              "      <th>18</th>\n",
              "      <td>13.02</td>\n",
              "      <td>3.907250</td>\n",
              "    </tr>\n",
              "    <tr>\n",
              "      <th>19</th>\n",
              "      <td>13.56</td>\n",
              "      <td>4.066644</td>\n",
              "    </tr>\n",
              "    <tr>\n",
              "      <th>20</th>\n",
              "      <td>13.65</td>\n",
              "      <td>4.096335</td>\n",
              "    </tr>\n",
              "    <tr>\n",
              "      <th>21</th>\n",
              "      <td>13.73</td>\n",
              "      <td>4.118519</td>\n",
              "    </tr>\n",
              "    <tr>\n",
              "      <th>22</th>\n",
              "      <td>13.70</td>\n",
              "      <td>4.111014</td>\n",
              "    </tr>\n",
              "    <tr>\n",
              "      <th>23</th>\n",
              "      <td>13.61</td>\n",
              "      <td>4.082768</td>\n",
              "    </tr>\n",
              "    <tr>\n",
              "      <th>24</th>\n",
              "      <td>13.15</td>\n",
              "      <td>3.945644</td>\n",
              "    </tr>\n",
              "    <tr>\n",
              "      <th>25</th>\n",
              "      <td>13.59</td>\n",
              "      <td>4.076789</td>\n",
              "    </tr>\n",
              "    <tr>\n",
              "      <th>26</th>\n",
              "      <td>13.04</td>\n",
              "      <td>3.911915</td>\n",
              "    </tr>\n",
              "    <tr>\n",
              "      <th>27</th>\n",
              "      <td>13.02</td>\n",
              "      <td>3.905630</td>\n",
              "    </tr>\n",
              "    <tr>\n",
              "      <th>28</th>\n",
              "      <td>13.25</td>\n",
              "      <td>3.974430</td>\n",
              "    </tr>\n",
              "    <tr>\n",
              "      <th>29</th>\n",
              "      <td>13.48</td>\n",
              "      <td>4.044013</td>\n",
              "    </tr>\n",
              "  </tbody>\n",
              "</table>\n",
              "</div>\n",
              "      <button class=\"colab-df-convert\" onclick=\"convertToInteractive('df-a2c60199-f513-4b1c-b78f-3ea35b353b84')\"\n",
              "              title=\"Convert this dataframe to an interactive table.\"\n",
              "              style=\"display:none;\">\n",
              "        \n",
              "  <svg xmlns=\"http://www.w3.org/2000/svg\" height=\"24px\"viewBox=\"0 0 24 24\"\n",
              "       width=\"24px\">\n",
              "    <path d=\"M0 0h24v24H0V0z\" fill=\"none\"/>\n",
              "    <path d=\"M18.56 5.44l.94 2.06.94-2.06 2.06-.94-2.06-.94-.94-2.06-.94 2.06-2.06.94zm-11 1L8.5 8.5l.94-2.06 2.06-.94-2.06-.94L8.5 2.5l-.94 2.06-2.06.94zm10 10l.94 2.06.94-2.06 2.06-.94-2.06-.94-.94-2.06-.94 2.06-2.06.94z\"/><path d=\"M17.41 7.96l-1.37-1.37c-.4-.4-.92-.59-1.43-.59-.52 0-1.04.2-1.43.59L10.3 9.45l-7.72 7.72c-.78.78-.78 2.05 0 2.83L4 21.41c.39.39.9.59 1.41.59.51 0 1.02-.2 1.41-.59l7.78-7.78 2.81-2.81c.8-.78.8-2.07 0-2.86zM5.41 20L4 18.59l7.72-7.72 1.47 1.35L5.41 20z\"/>\n",
              "  </svg>\n",
              "      </button>\n",
              "      \n",
              "  <style>\n",
              "    .colab-df-container {\n",
              "      display:flex;\n",
              "      flex-wrap:wrap;\n",
              "      gap: 12px;\n",
              "    }\n",
              "\n",
              "    .colab-df-convert {\n",
              "      background-color: #E8F0FE;\n",
              "      border: none;\n",
              "      border-radius: 50%;\n",
              "      cursor: pointer;\n",
              "      display: none;\n",
              "      fill: #1967D2;\n",
              "      height: 32px;\n",
              "      padding: 0 0 0 0;\n",
              "      width: 32px;\n",
              "    }\n",
              "\n",
              "    .colab-df-convert:hover {\n",
              "      background-color: #E2EBFA;\n",
              "      box-shadow: 0px 1px 2px rgba(60, 64, 67, 0.3), 0px 1px 3px 1px rgba(60, 64, 67, 0.15);\n",
              "      fill: #174EA6;\n",
              "    }\n",
              "\n",
              "    [theme=dark] .colab-df-convert {\n",
              "      background-color: #3B4455;\n",
              "      fill: #D2E3FC;\n",
              "    }\n",
              "\n",
              "    [theme=dark] .colab-df-convert:hover {\n",
              "      background-color: #434B5C;\n",
              "      box-shadow: 0px 1px 3px 1px rgba(0, 0, 0, 0.15);\n",
              "      filter: drop-shadow(0px 1px 2px rgba(0, 0, 0, 0.3));\n",
              "      fill: #FFFFFF;\n",
              "    }\n",
              "  </style>\n",
              "\n",
              "      <script>\n",
              "        const buttonEl =\n",
              "          document.querySelector('#df-a2c60199-f513-4b1c-b78f-3ea35b353b84 button.colab-df-convert');\n",
              "        buttonEl.style.display =\n",
              "          google.colab.kernel.accessAllowed ? 'block' : 'none';\n",
              "\n",
              "        async function convertToInteractive(key) {\n",
              "          const element = document.querySelector('#df-a2c60199-f513-4b1c-b78f-3ea35b353b84');\n",
              "          const dataTable =\n",
              "            await google.colab.kernel.invokeFunction('convertToInteractive',\n",
              "                                                     [key], {});\n",
              "          if (!dataTable) return;\n",
              "\n",
              "          const docLinkHtml = 'Like what you see? Visit the ' +\n",
              "            '<a target=\"_blank\" href=https://colab.research.google.com/notebooks/data_table.ipynb>data table notebook</a>'\n",
              "            + ' to learn more about interactive tables.';\n",
              "          element.innerHTML = '';\n",
              "          dataTable['output_type'] = 'display_data';\n",
              "          await google.colab.output.renderOutput(dataTable, element);\n",
              "          const docLink = document.createElement('div');\n",
              "          docLink.innerHTML = docLinkHtml;\n",
              "          element.appendChild(docLink);\n",
              "        }\n",
              "      </script>\n",
              "    </div>\n",
              "  </div>\n",
              "  "
            ]
          },
          "metadata": {},
          "execution_count": 8
        }
      ]
    },
    {
      "cell_type": "markdown",
      "source": [
        ">**Todos los resultados de el algoritmo 1 estan dados en MILISEGUNDOS**\n",
        "\n",
        ">**Es decir para la ejecucion 1 en python es de 13.03 MILISEGUNDOS**"
      ],
      "metadata": {
        "id": "M0gB3eDT1Pxu"
      }
    },
    {
      "cell_type": "markdown",
      "source": [
        "### Analisis del rendimiento del algoritmo 1"
      ],
      "metadata": {
        "id": "NzGgTVTlmyP7"
      }
    },
    {
      "cell_type": "markdown",
      "source": [
        "#### Deteccion de Outliers:"
      ],
      "metadata": {
        "id": "aH3sJWi5qYMw"
      }
    },
    {
      "cell_type": "code",
      "source": [
        "import seaborn as sns\n",
        "sns.boxplot(x=Algoritmo1['Python'])"
      ],
      "metadata": {
        "colab": {
          "base_uri": "https://localhost:8080/",
          "height": 296
        },
        "id": "cybql-Rsqb8W",
        "outputId": "ec519716-ba53-4080-c6d2-b74d57b0ceb0"
      },
      "execution_count": 23,
      "outputs": [
        {
          "output_type": "execute_result",
          "data": {
            "text/plain": [
              "<matplotlib.axes._subplots.AxesSubplot at 0x7f913ab29790>"
            ]
          },
          "metadata": {},
          "execution_count": 23
        },
        {
          "output_type": "display_data",
          "data": {
            "text/plain": [
              "<Figure size 432x288 with 1 Axes>"
            ],
            "image/png": "[encoded data removed]"
          },
          "metadata": {
            "needs_background": "light"
          }
        }
      ]
    },
    {
      "cell_type": "code",
      "source": [
        "sns.boxplot(x=Algoritmo1['Cython'])"
      ],
      "metadata": {
        "colab": {
          "base_uri": "https://localhost:8080/",
          "height": 296
        },
        "id": "hnjS-zGuqpBP",
        "outputId": "b850fef6-02ac-4444-bfe5-040812d5af80"
      },
      "execution_count": 22,
      "outputs": [
        {
          "output_type": "execute_result",
          "data": {
            "text/plain": [
              "<matplotlib.axes._subplots.AxesSubplot at 0x7f913abda150>"
            ]
          },
          "metadata": {},
          "execution_count": 22
        },
        {
          "output_type": "display_data",
          "data": {
            "text/plain": [
              "<Figure size 432x288 with 1 Axes>"
            ],
            "image/png": "[encoded data removed]"
          },
          "metadata": {
            "needs_background": "light"
          }
        }
      ]
    },
    {
      "cell_type": "markdown",
      "source": [
        "No se detectan outliers dentro de los datos obtenidos, lo que quiere decir que las muestras y cargas que se han tomado han sido las indicadas y representan adecuadamente el comportamiento de Python y Cython"
      ],
      "metadata": {
        "id": "sty32mR6qszH"
      }
    },
    {
      "cell_type": "markdown",
      "source": [
        "#### Media de rendimiento en los tiempos de ejecucion:"
      ],
      "metadata": {
        "id": "Q07JEy-Vm7GD"
      }
    },
    {
      "cell_type": "code",
      "source": [
        "print(\"Media de rendimiento Python\",Algoritmo1['Python'].mean())\n",
        "print(\"Media de rendimiento Cython\", Algoritmo1['Cython'].mean())\n",
        "print(\"Segun la media, Cython es\",Algoritmo1['Python'].mean()/Algoritmo1['Cython'].mean(), \"veces mas rapido que Python\")"
      ],
      "metadata": {
        "colab": {
          "base_uri": "https://localhost:8080/"
        },
        "id": "7cYqHuPHnCyS",
        "outputId": "ffea4268-8dbf-4322-9123-55cc0da6ba6c"
      },
      "execution_count": 18,
      "outputs": [
        {
          "output_type": "stream",
          "name": "stdout",
          "text": [
            "Media de rendimiento Python 13.450666666666667\n",
            "Media de rendimiento Cython 4.0350943776\n",
            "Segun la media, Cython es 3.333420586476313 veces mas rapido que Python\n"
          ]
        }
      ]
    },
    {
      "cell_type": "markdown",
      "source": [
        "El resultado esperado, como se visualiza en la parte superior, es que Cython es un compilador mucho mas eficiente que Python, resultando en que sus tiempos de ejecucion son hasta un 70% mas rapido en Cython."
      ],
      "metadata": {
        "id": "N0uV9NGbpRyg"
      }
    },
    {
      "cell_type": "markdown",
      "source": [
        "#### Comparacion con graficas"
      ],
      "metadata": {
        "id": "PluArUEqrMN2"
      }
    },
    {
      "cell_type": "markdown",
      "source": [
        "Por ultimo para poder ilustrar las grandes diferencias que existen entre Python y Cython se utilizaran dos graficas con las cuales se tratara de mostrar dicho comportamiento."
      ],
      "metadata": {
        "id": "maujzf3hrPIW"
      }
    },
    {
      "cell_type": "code",
      "source": [
        "import matplotlib.pyplot as plt\n",
        "plt.bar(Algoritmo1['Python'],Algoritmo1['Python'], label=\"Python\", color='g')\n",
        "plt.bar(Algoritmo1['Cython'],Algoritmo1['Cython'], label=\"Cython\", color='b')"
      ],
      "metadata": {
        "colab": {
          "base_uri": "https://localhost:8080/",
          "height": 282
        },
        "id": "ubmbGaYzrX2R",
        "outputId": "ce9f36e9-89e3-4f44-bfec-e4f703ec2785"
      },
      "execution_count": 38,
      "outputs": [
        {
          "output_type": "execute_result",
          "data": {
            "text/plain": [
              "<BarContainer object of 30 artists>"
            ]
          },
          "metadata": {},
          "execution_count": 38
        },
        {
          "output_type": "display_data",
          "data": {
            "text/plain": [
              "<Figure size 432x288 with 1 Axes>"
            ],
            "image/png": "[encoded data removed]"
          },
          "metadata": {
            "needs_background": "light"
          }
        }
      ]
    },
    {
      "cell_type": "markdown",
      "source": [
        "En la grafica, el eje x representa el numero de cargas y el eje y representa el desempeño de ejecucion de cada compilador, el cual esta mostrado en milisegundos. Cython esta representado por el color azul y Python representado por el color verde, como se observa, Python es mucho mas lento que Cython ya que en la grafica se muestran los tiempos de ejecucion y en esta se puede observar que la barra que representa a Python supera por mucho tamaño y ademas es de mayor valor que la de Cython. Es decir que los tiempos de ejecucion de Python son mucho mas grandes que los de Cython para este algoritmo."
      ],
      "metadata": {
        "id": "GqLQhQkMvRcb"
      }
    },
    {
      "cell_type": "code",
      "source": [
        "import matplotlib.pyplot as plt\n",
        "\n",
        "#Lista diseñada especificamente para la grafica: Seran los index para los valores, es de 30 pues se tienen 30 cargas\n",
        "indexes = [ 1,  2,  3,  4,  5,  6,  7,  8,  9, 10, 11, 12, 13, 14, 15, 16, 17, 18, 19, 20, 21, 22, 23, 24, 25, 26, 27, 28, 29, 30]\n",
        "\n",
        "# Se añaden los colores y las etiquetas para la grafica.\n",
        "\n",
        "plt.plot(indexes, Algoritmo1['Python'], label=\"Python\", color='g')\n",
        "plt.plot(indexes, Algoritmo1['Cython'], label=\"Cython\", color='b')\n",
        "plt.plot\n",
        "\n",
        "plt.xlabel(\"Numero de cargas\")\n",
        "plt.ylabel(\"Tiempo de ejecucion(s)\")\n",
        "plt.title(\"Grafica de desempeño entre Python y Cython\")\n",
        "plt.legend()\n",
        "plt.show()"
      ],
      "metadata": {
        "colab": {
          "base_uri": "https://localhost:8080/",
          "height": 295
        },
        "id": "ISz_ajvOwRAH",
        "outputId": "fea30a65-75ae-4a5f-cacc-14f375a4b1fa"
      },
      "execution_count": 51,
      "outputs": [
        {
          "output_type": "display_data",
          "data": {
            "text/plain": [
              "<Figure size 432x288 with 1 Axes>"
            ],
            "image/png": "[encoded data removed]"
          },
          "metadata": {
            "needs_background": "light"
          }
        }
      ]
    },
    {
      "cell_type": "markdown",
      "source": [
        "La grafica de lineas representa el desempeño de cada algoritmo, en el eje x tenemos el numero de cargas del 1 al 30, y en el eje y se tiene el tiempo de ejecucion de cada algoritmo en su respectivo compilador.\n",
        "\n",
        "Como se puede observar, el tiempo de ejecucion de Cython es mucho menor que el de Python, por ende aparece en la parte inferior de la grafica, mientras que el de Python aparece mucho mas arriba, por ende, esto significa que su tiempo de ejecucion es mucho mayor.\n",
        "\n",
        "Para esta grafica, los elementos que aparezcan en la parte inferior, quieren decir que tienen mejor desempeño, ya que son mas cercanos a cero, mientras que los que se posicionen mas arriba quieren decir que su desempeño es mucho peor, puesto que su tiempo de ejecucion es mas grande\n",
        "\n",
        "Podemos concluir de la grafica que Cython es mucho mas rapido que Python\n"
      ],
      "metadata": {
        "id": "lbgH1kuL1gGL"
      }
    },
    {
      "cell_type": "markdown",
      "source": [
        "## Conclusiones Algoritmo 1"
      ],
      "metadata": {
        "id": "hnsrPWyr2jc1"
      }
    },
    {
      "cell_type": "markdown",
      "source": [
        "De los resultados del algoritmo 1 podemos concluir que en efecto Cython mejora increiblemente el desempeño de rendimiento a la hora de ejecutar codigo de Python, como se pudo observar para este ejemplo el rendimiento se incremento hasta 3 veces mas que en Python, lo que es una mejoria tremenda considerando que los esfuerzos para transformar un codigo de Python a Cython son bastante pocos\n",
        "\n",
        "> Cabe destacar que aunque el codigo de Cython siempre es mejorable, es decir que siempre se puede cambiar para ajustarlo mas a Cython, con tan solo transformalo a pyx y declarar su variables como estaticas tal como se haria en C, el rendimiento incrementa por mucho\n",
        "\n",
        "Cython\n",
        "```python\n",
        "def Cymain1():\n",
        "  cdef double velocidad = 0.0, distancia = 0.0, tiempo = 5.0\n",
        "  #Tiempo constante, pues si se aleatoriza podria dar resultados muy exagerados\n",
        "  velocidad = aleatorizar(velocidad)\n",
        "  distancia = aleatorizar(distancia)\n",
        "  ...\n",
        "```\n",
        "Python\n",
        "```python\n",
        "def main():\n",
        "  velocidad = 0.0\n",
        "  distancia = 0.0\n",
        "  #Tiempo constante, pues si se aleatoriza podria dar resultados muy exagerados\n",
        "  tiempo = 5.0\n",
        "  velocidad = aleatorizar(velocidad)\n",
        "  distancia = aleatorizar(distancia)\n",
        "  ...\n",
        "```\n",
        "\n",
        "Como se observa, las diferencias entre python y cython son minimas, ya que las diferencias radican en tan solo las declaraciones de las variables, las cuales ahora son estaticas, sin embargo la mejora de desempeño es notoria, como se pudo observar en el analisis de resultados."
      ],
      "metadata": {
        "id": "E4K1nAVI20ok"
      }
    },
    {
      "cell_type": "markdown",
      "source": [
        "Con este algoritmo se buscaba explorar como Cython cumple su funcionamiento con funciones aleatorizadas, ademas aunque el calculo de las funciones es muy sencillo, tambien se queria comprobar como este funciona cuando estos calculos se deben realizar multiples veces, para este caso de 30 cargas"
      ],
      "metadata": {
        "id": "EXhWnBicAlqr"
      }
    },
    {
      "cell_type": "markdown",
      "source": [
        "Aunque la funcion de aleatorizar podria influir en los resultados de la ejecucion, ya que por ejemplo, las variables podrian tomar valores muy altos que quiza podrian influir en los resultados de tiempo, cabe destacar que es por eso que la cantidad de cargas debe ser lo suficientemente alta es decir de 30, ademas aunque la aleatorizacion podria influir en el resultado cabe destacar que Cython sigue siendo una herramienta muy poderosa frente a Python a la hora de ejecutar codigo"
      ],
      "metadata": {
        "id": "LjybyOHRCy-E"
      }
    },
    {
      "cell_type": "markdown",
      "source": [
        "Como conclusion final, se concluye que Cython es mucho mas eficiente que Python aunque se involucren variables aleatorias."
      ],
      "metadata": {
        "id": "qtV-A-akDMpp"
      }
    },
    {
      "cell_type": "markdown",
      "source": [
        "# Algoritmo 2 / Benchmark 2: Analitica de Datos"
      ],
      "metadata": {
        "id": "ms5D29hXDpmR"
      }
    },
    {
      "cell_type": "markdown",
      "source": [
        "El algoritmo 2 busca realizar una sencilla analitica de un conjunto de datos pequeños, en este caso, los datos son una lista aleatoriamente generada de 20 valores, luego el algoritmo buscara calcular su media, mediana y moda y mostrarlas, ademas de retornarlas para que el usuario pueda hacer uso de ellas.\n",
        "\n",
        "> Aunque la lista de datos sea aleatoriamente generada, esta en realidad puede ser cualquier lista de datos, similar que con el algoritmo 1, la aleatorizacion es solo con motivos experimentales.\n",
        "\n",
        "La inclusion de este algoritmo en el experimento es con el objetivo de ver como Cython trabaja con ciclos for, multiples if y ademas con el uso de funciones de Python como crear diccionarios."
      ],
      "metadata": {
        "id": "sOoGKLqiE6Rd"
      }
    },
    {
      "cell_type": "markdown",
      "source": [
        "A continuacion se presenta el codigo del algoritmo 2:"
      ],
      "metadata": {
        "id": "4_jwTIu2HUbp"
      }
    },
    {
      "cell_type": "code",
      "source": [
        "import random\n",
        "import collections\n",
        "def calcularMediana(datos):\n",
        "  datos_ordenados = sorted(datos)\n",
        "  numero_datos = len(datos_ordenados)\n",
        "  mitad = (numero_datos - 1) // 2\n",
        "  if mitad % 2:\n",
        "        return datos_ordenados[mitad]\n",
        "  else:\n",
        "        return (datos_ordenados[mitad] + datos_ordenados[mitad + 1]) / 2.0\n",
        "\n",
        "def calcularMedia(datos):\n",
        "  sumatoria_datos = sum(datos)\n",
        "  numero_datos = len(datos)\n",
        "  media = sumatoria_datos/numero_datos\n",
        "  return media\n",
        "\n",
        "def calcularModa(datos):\n",
        "\n",
        "    frecuencia = collections.Counter(datos)\n",
        "    Obtener_frecuencia = dict(frecuencia)\n",
        "    moda = [k for k, v in Obtener_frecuencia.items() if v == max(list(frecuencia.values()))]\n",
        "    return moda\n",
        "  \n",
        "\n",
        "def datosAleatorios(datos):\n",
        "  i = 0\n",
        "  for i in range(0,20):\n",
        "    n = random.randint(1,100)\n",
        "    datos.append(n)\n",
        "    i+= 1\n",
        "\n",
        "\n",
        "def main():\n",
        "  data = []\n",
        "  datosAleatorios(data)\n",
        "  print(\"Cadena de datos: \")\n",
        "  print(data)\n",
        "  print(\"La mediana de los datos es de:\", calcularMediana(data))\n",
        "  print(\"La media de los datos es de:  \", calcularMedia(data))\n",
        "  if(calcularModa(data) == data):\n",
        "    print(\"No hay moda / Ningun dato se repite mas de una vez\")\n",
        "  else:\n",
        "    print(\"La moda de los datos es de:  \", calcularModa(data))\n",
        "\n",
        "main()"
      ],
      "metadata": {
        "colab": {
          "base_uri": "https://localhost:8080/"
        },
        "id": "Za0AejgFk9hD",
        "outputId": "9b86655a-3663-4853-b682-990f67067fdd"
      },
      "execution_count": null,
      "outputs": [
        {
          "output_type": "stream",
          "name": "stdout",
          "text": [
            "Cadena de datos: \n",
            "[27, 78, 31, 34, 69, 87, 96, 32, 77, 41, 62, 7, 66, 89, 2, 33, 86, 5, 54, 9]\n",
            "La mediana de los datos es de: 41\n",
            "La media de los datos es de:   49.25\n",
            "No hay moda / Ningun dato se repite mas de una vez\n"
          ]
        }
      ]
    },
    {
      "cell_type": "markdown",
      "source": [
        "## Analisis Benchmark 2/Algoritmo 2"
      ],
      "metadata": {
        "id": "IPYvbLWQHdW-"
      }
    },
    {
      "cell_type": "markdown",
      "source": [
        "###Importaciones"
      ],
      "metadata": {
        "id": "QhVOnfmnLhV_"
      }
    },
    {
      "cell_type": "markdown",
      "source": [
        "```python\n",
        "import random\n",
        "import collections\n",
        "```"
      ],
      "metadata": {
        "id": "jHcMkWSkLoLk"
      }
    },
    {
      "cell_type": "markdown",
      "source": [
        "Se realizan dos importaciones de librerias de python externas, las cuales son *random*, para inicializar la lista de datos con la que se trabajara, pero ademas tambien se importa la libreria *colecctions*, la cual facilita el trabajo con cadenas de datos, como el conteo de la frecuencia de que tanto se repite un valor en una lista de datos."
      ],
      "metadata": {
        "id": "RIcA4jXiLwZ4"
      }
    },
    {
      "cell_type": "markdown",
      "source": [
        "### Funcion calcularMediana"
      ],
      "metadata": {
        "id": "ULwZzIwmMKpo"
      }
    },
    {
      "cell_type": "markdown",
      "source": [
        "```python\n",
        "def calcularMediana(datos):\n",
        "  datos_ordenados = sorted(datos)\n",
        "  numero_datos = len(datos_ordenados)\n",
        "  mitad = (numero_datos - 1) // 2\n",
        "  if mitad % 2:\n",
        "        return datos_ordenados[mitad]\n",
        "  else:\n",
        "        return (datos_ordenados[mitad] + datos_ordenados[mitad + 1]) / 2.0\n",
        "```"
      ],
      "metadata": {
        "id": "JqWMbgh1MOQP"
      }
    },
    {
      "cell_type": "markdown",
      "source": [
        "Inicialmente se declara la funcion *calcularMediana* con un parametro el cual es simplemente la lista de datos a la cual se requiere la obtencion del valor de la mediana\n",
        "\n",
        "```python\n",
        "  ...\n",
        "  datos_ordenados = sorted(datos)\n",
        "  numero_datos = len(datos_ordenados)\n",
        "  ...\n",
        "```\n",
        "\n",
        "Se declaran dos variables, una llamada *datos_ordenados* y la otra *numero_datos*\n",
        "La primera variable sera asignada a un *sorted()* el cual es una funcion de Python la cual puede ser llamada para ordenar una lista de datos de menor a mayor\n",
        "\n",
        "> Se recuerda que para calcular la mediana aritmetica de un conjunto de datos se requieren que estos esten ordenados de menor a mayor\n",
        "\n",
        "La segunda variable se le asignara un *len()* el cual tiene como objetivo determinar con cuantos datos se trabajará\n",
        "\n"
      ],
      "metadata": {
        "id": "xqE7GRHpMg2w"
      }
    },
    {
      "cell_type": "markdown",
      "source": [
        "```python\n",
        "  ...\n",
        "  mitad = (numero_datos - 1) // 2\n",
        "  if mitad % 2:\n",
        "        return datos_ordenados[mitad]\n",
        "  else:\n",
        "        return (datos_ordenados[mitad] + datos_ordenados[mitad + 1]) / 2.0\n",
        "```\n",
        "\n",
        "Se declara una tercera variable, usando uso de la segunda, la cual como su nombre indica, sera simplemente la mitad de la cantidad de numeros con los que estemos trabajando. \n",
        "\n",
        "Para evitar fallos a la hora de calcular la mitad de los datos, se restara uno al numero de datos y luego se hara un *mod* de dos al numero de datos - 1, con el objetivo de hallar el numero que este en la mitad de los datos.\n",
        "\n",
        "Por ultimo se tiene un *if*, el cual sirve para hallar el resultado, la funcion de este *if* es ayudarnos a determinar si el conjunto de datos es par o impar, ya que en el caso de ser par, simplemente se retornara el dato que se encuentre en la mitad usando *datos_ordenados[mitad]* si no, se sumara el numero siguiente al numero de la mitad y se dividira entre dos, obteniendo el promedio de los dos numeros, el cual sera nuestra mediana.\n",
        "\n",
        "> Se recuerda que en la definicion aritmetica de la mediana, al tener un conjunto de datos impar, la mediana se definira como la suma de los dos valores en la mitad y el promedio de estos."
      ],
      "metadata": {
        "id": "wTPq3vweNfVI"
      }
    },
    {
      "cell_type": "markdown",
      "source": [
        "### Funcion calcularMedia"
      ],
      "metadata": {
        "id": "B7zyY3bwO5gY"
      }
    },
    {
      "cell_type": "markdown",
      "source": [
        "```python\n",
        "def calcularMedia(datos):\n",
        "  sumatoria_datos = sum(datos)\n",
        "  numero_datos = len(datos)\n",
        "  media = sumatoria_datos/numero_datos\n",
        "  return media\n",
        "```\n",
        "\n",
        "Inicialmente se declara la funcion calcularMedia con un parametro el cual es la lista de datos a la cual se le quiere obtener el promedio o la media\n"
      ],
      "metadata": {
        "id": "9av6YQdvO_Iu"
      }
    },
    {
      "cell_type": "markdown",
      "source": [
        "```python\n",
        "  ...\n",
        "  sumatoria_datos = sum(datos)\n",
        "  numero_datos = len(datos)\n",
        "  ...\n",
        "```\n",
        "\n",
        "Se declaran dos variables, una llamada *sumatoria_datos* y la otra *numero_datos*\n",
        "\n",
        "Para la primera, se le asigna el valor de *sum()* y como parametro la lista de datos con la que se trabaja. *sum()* siendo una de las funciones predeterminadas de Python la cual retorna la sumatoria de todos los valores en una lista de datos.\n",
        "\n",
        "Para la segunda, se le asigna un *len()* y como parametro la lista de datos con la que se trabaja. *len()* siendo una de las funciones predeterminadas de Python la cual retorna la cantidad de datos de una lista otorgada."
      ],
      "metadata": {
        "id": "dlC1n1CpPRPv"
      }
    },
    {
      "cell_type": "markdown",
      "source": [
        "```python\n",
        "  media = sumatoria_datos/numero_datos\n",
        "  return media\n",
        "```\n",
        "\n",
        "Por ultimo se declara una tercera variable, la cual es llamada *media*, a dicha variable se le asigna el valor de la division entre las otras dos variables anteriores, esto con el objetivo de obtener la media aritmetica del conjunto de datos\n",
        "\n",
        "> Se recuerda que para obtener el promedio o media aritmetica de un conjunto de datos se debe realizar al sumatoria de los valores en la lista y dividirlos por el numero de valores totales.\n",
        "\n",
        "Por ultimo se retorna el valor de la media obtenido."
      ],
      "metadata": {
        "id": "htRPh1E4P5gw"
      }
    },
    {
      "cell_type": "markdown",
      "source": [
        "### Funcion calcularModa"
      ],
      "metadata": {
        "id": "49WxXFCSQPnI"
      }
    },
    {
      "cell_type": "markdown",
      "source": [
        "```python\n",
        "def calcularModa(datos):\n",
        "    frecuencia = collections.Counter(datos)\n",
        "    Obtener_frecuencia = dict(frecuencia)\n",
        "    moda = [k for k, v in Obtener_frecuencia.items() if v == max(list(frecuencia.values()))]\n",
        "    return moda\n",
        "  \n",
        "```\n",
        "\n",
        "Inicialmente se declara la funcion *calcularModa* la cual recibe como parametro la lista de datos con la que se trabajará\n",
        "\n"
      ],
      "metadata": {
        "id": "nUDPUuy5QUOO"
      }
    },
    {
      "cell_type": "markdown",
      "source": [
        "```python\n",
        "    ...\n",
        "    frecuencia = collections.Counter(datos)\n",
        "    Obtener_frecuencia = dict(frecuencia)\n",
        "    ...\n",
        "```\n",
        "\n",
        "Se declara una variable llamada frecuencia, la cual se le asigna el valor de *collections.Counter(datos)* dicha funcion, es importada de *collections* y su funcion es retornar una cuenta de datos, es decir, contara cuantos elementos de cada valor se hallan en la lista de datos\n",
        "\n",
        "La segunda variable, la cual es Obtener_frecuencia se le asigna el valor de un diccionario, usando la palabra reservada *dict* para declararlo, el diccionario contiene todos los valores hallados en la lista de datos, junto con su cuenta de cuantas veces se repiten.\n",
        "\n"
      ],
      "metadata": {
        "id": "hFx7sB0SRV3n"
      }
    },
    {
      "cell_type": "markdown",
      "source": [
        "```python\n",
        "    ...\n",
        "    moda = [k for k, v in Obtener_frecuencia.items() if v == max(list(frecuencia.values()))]\n",
        "    return moda\n",
        "```\n",
        "\n",
        "Se declara la variable moda, la cual sera la que obtendra el valor de la moda para la lista de datos, dicha variable se le asignara una lista compuesta por un codigo, el cual tiene un bucle for el cual recorre cada valor de la lista, en dicho bucle, se buscara el valor maximo del diccionario, es decir el valor que mas veces se repite dentro del conjunto de datos, este tiene un *if* en el cual la condicion es que si no se encuentra el valor maximo, o no se repiten mas de un valor, la variable moda debe retornar los valores iniciales, es decir la lista de datos inicial\n",
        "\n",
        "Por ultimo se retorna el valor de la moda para que pueda ser usado."
      ],
      "metadata": {
        "id": "rTYdYA7BSaUh"
      }
    },
    {
      "cell_type": "markdown",
      "source": [
        "### Funcion datosAleatorios\n"
      ],
      "metadata": {
        "id": "_HCQg4PMXT9n"
      }
    },
    {
      "cell_type": "markdown",
      "source": [
        "```python\n",
        "def datosAleatorios(datos):\n",
        "  i = 0\n",
        "  for i in range(0,20):\n",
        "    n = random.randint(1,100)\n",
        "    datos.append(n)\n",
        "    i+= 1\n",
        "```\n",
        "\n",
        "Se define la funcion *datosAleatorios* con el parametro *datos* el cual representa la cadena de datos que se quiere utilizar para el estudio.\n",
        "\n",
        "Inicialmente se declara una variable bandera *i* que se utilizara para iterar sobre un ciclo *for* el cual se encuentra en la siguiente linea, el cual itera sobre un rango de numeros, del 0 al 20, dicho rango determinara el tamaño de nuestra lista de datos, esto quiere decir que trabajaremos con una lista de 20 valores, dicho valor puede ser cambiado a voluntad, sin embargo para este experimento se uso tano solo de 20 valores para facilitar el estudio.\n",
        "\n",
        "Despues se declara la variable *n* dentro del ciclo *for*, dicha variable es la que se le asignara un valor aleatorio, usando la funcion *random.randint* para obtener un valor entero aleatorio dentro de un rango, en este caso, el rango es del 1 al 100, dicho valor tambien puede ser cambiado a voluntad\n",
        "\n",
        "Por ultimo la variable *n* previamente mencionada, se adjuntará a la lista de datos utilizando el comando *append* dicho comando hace que una variable se anexe al final de la lista, en este caso la lista de datos se ira llenando con los variables aleatorios *n* segun vaya ciclando el ciclo *for*\n",
        "\n",
        "Para finalizar a la variable bandera *i* se le suma 1 significando que el ciclo ha terminado y que falta un valor menos para que este termine completamente.\n"
      ],
      "metadata": {
        "id": "MNiKkEmgXgDD"
      }
    },
    {
      "cell_type": "markdown",
      "source": [
        "### Funcion main:"
      ],
      "metadata": {
        "id": "XKQucd32HtiA"
      }
    },
    {
      "cell_type": "markdown",
      "source": [
        "```python\n",
        "def main():\n",
        "  data = []\n",
        "  datosAleatorios(data)\n",
        "  print(\"Cadena de datos: \")\n",
        "  print(data)\n",
        "  print(\"La mediana de los datos es de:\", calcularMediana(data))\n",
        "  print(\"La media de los datos es de:  \", calcularMedia(data))\n",
        "  if(calcularModa(data) == data):\n",
        "    print(\"No hay moda / Ningun dato se repite mas de una vez\")\n",
        "  else:\n",
        "    print(\"La moda de los datos es de:  \", calcularModa(data))\n",
        "\n",
        "```\n",
        "\n",
        "```python\n",
        "def main():\n",
        "  data = []\n",
        "  datosAleatorios(data)\n",
        "  print(\"Cadena de datos: \")\n",
        "  print(data)\n",
        "  ...\n",
        "```\n",
        "\n",
        "Inicialmente se declara la funcion main, la cual no recibe ningun parametro y su funcion en el algoritmo es la de funcionar como ejecutable para python.\n",
        "\n",
        "Se declara una lista de datos la cual esta vacia, esta es la lista con la cual se realizara el analisis de datos, dicha lista puede ser cualquiera a la cual se le quiera hacer el analisis, para este experimento se inicializara una con el nombre de *data* y empezara vacia\n",
        "\n",
        "Luego la lista de datos vacia, se enviara a una funcion llamada *datosAleatorios* el objetivo de esta funcion es llenar la lista con valores aleatorios, dicha funcion sera explicada mas adelante en este cuaderno.\n",
        "\n",
        "Se imprime la cadena de datos para mostrarle al usuario con que cadena se trabajará y ademas con cuales valores esta fue inicializada aleatoriamente.\n"
      ],
      "metadata": {
        "id": "sMwI3TgVdnyR"
      }
    },
    {
      "cell_type": "markdown",
      "source": [
        "```python\n",
        "  ...\n",
        "  print(\"La mediana de los datos es de:\", calcularMediana(data))\n",
        "  print(\"La media de los datos es de:  \", calcularMedia(data))\n",
        "  if(calcularModa(data) == data):\n",
        "    print(\"No hay moda / Ningun dato se repite mas de una vez\")\n",
        "  else:\n",
        "    print(\"La moda de los datos es de:  \", calcularModa(data))\n",
        "```\n",
        "\n"
      ],
      "metadata": {
        "id": "ToR4Fws-I782"
      }
    },
    {
      "cell_type": "markdown",
      "source": [
        "Se envia la lista de datos a realizar su analisis, comenzando con la mediana, los datos son enviados a su respectiva funcion *calcularMediana(data)*, para devolver su resultado y ser leidos por el usuario.\n",
        "\n",
        "El mismo caso ocurre para la media, la cual se envia a su funcion *calcularMedia(data)* para obtener la media de los datos.\n",
        "\n",
        "Sin embargo para la moda es un caso distinto, ya que el valor que se retorna en moda, es en realidad, otra lista de objetos, dicha lista contiene todos los objetos que en la lista original se repiten mas de una vez. Sin embargo, debido al trabajo de dicha funcion la cual sera analizada mas adelante en este cuaderno, cuando no hay valores repetidos en la lista original, la funcion retornara nuevamente dicha lista, es decir que se sabe que ningun dato se repite, cuando la funcion de *calcularModa(data)* y la data original son iguales, debido a esto este *if* esta construido de dicha manera, sin embargo cuando hay datos repetidos en la lista, estos seran guardados en la lista *moda* y podran ser leidos con normalidad"
      ],
      "metadata": {
        "id": "7Sv0FPtPJyfo"
      }
    },
    {
      "cell_type": "markdown",
      "source": [
        "### Resultados del algoritmo:"
      ],
      "metadata": {
        "id": "m_b2doNAZT_1"
      }
    },
    {
      "cell_type": "code",
      "source": [
        "import random\n",
        "import collections\n",
        "def calcularMediana(datos):\n",
        "  datos_ordenados = sorted(datos)\n",
        "  numero_datos = len(datos_ordenados)\n",
        "  mitad = (numero_datos - 1) // 2\n",
        "  if mitad % 2:\n",
        "        return datos_ordenados[mitad]\n",
        "  else:\n",
        "        return (datos_ordenados[mitad] + datos_ordenados[mitad + 1]) / 2.0\n",
        "\n",
        "def calcularMedia(datos):\n",
        "  sumatoria_datos = sum(datos)\n",
        "  numero_datos = len(datos)\n",
        "  media = sumatoria_datos/numero_datos\n",
        "  return media\n",
        "\n",
        "def calcularModa(datos):\n",
        "\n",
        "    frecuencia = collections.Counter(datos)\n",
        "    Obtener_frecuencia = dict(frecuencia)\n",
        "    moda = [k for k, v in Obtener_frecuencia.items() if v == max(list(frecuencia.values()))]\n",
        "    return moda\n",
        "  \n",
        "\n",
        "def datosAleatorios(datos):\n",
        "  i = 0\n",
        "  for i in range(0,20):\n",
        "    n = random.randint(1,100)\n",
        "    datos.append(n)\n",
        "    i+= 1\n",
        "\n",
        "\n",
        "def main():\n",
        "  data = []\n",
        "  datosAleatorios(data)\n",
        "  print(\"Cadena de datos: \")\n",
        "  print(data)\n",
        "  print(\"La mediana de los datos es de:\", calcularMediana(data))\n",
        "  print(\"La media de los datos es de:  \", calcularMedia(data))\n",
        "  if(calcularModa(data) == data):\n",
        "    print(\"No hay moda / Ningun dato se repite mas de una vez\")\n",
        "  else:\n",
        "    print(\"La moda de los datos es de:  \", calcularModa(data))\n",
        "\n",
        "main()"
      ],
      "metadata": {
        "colab": {
          "base_uri": "https://localhost:8080/"
        },
        "id": "d2rxqPLMZY2P",
        "outputId": "df4355c8-a80f-41fa-9d3a-33b22efd225f"
      },
      "execution_count": 55,
      "outputs": [
        {
          "output_type": "stream",
          "name": "stdout",
          "text": [
            "Cadena de datos: \n",
            "[17, 83, 41, 18, 63, 39, 14, 25, 28, 100, 87, 66, 21, 93, 3, 93, 22, 44, 7, 45]\n",
            "La mediana de los datos es de: 39\n",
            "La media de los datos es de:   45.45\n",
            "La moda de los datos es de:   [93]\n"
          ]
        }
      ]
    },
    {
      "cell_type": "markdown",
      "source": [
        "Como se observa en el resultado mostrado en consola en la parte superior, la cadena se inicializa de forma aleatoria y tiene 20 valores. se imprime la cadena y luego se procede a hacer las ejecuciones esperadas.\n",
        "\n",
        "Se muestra la mediana de los datos, que en este caso es de 39, pues es el promedio de los dos valores que se encuentran en el medio. \n",
        "\n",
        "La media de los datos es de 45.45 el cual es el promedio de todos los valores de la lista\n",
        "\n",
        "La moda de los datos, es el valor que mas se repite, en este caso es de 93\n"
      ],
      "metadata": {
        "id": "juPbwBAaZc7p"
      }
    },
    {
      "cell_type": "markdown",
      "source": [
        "El objetivo del algoritmo es cumplido pues es posible realizar un analisis estadistico basico de una lista de datos determinado, aunque para este caso la lista sea de tan solo 20 elementos, el algoritmo es mucho mas util para calcular las estadisticas de listas de elementos gigantescos como 1000 o 2000, de esta forma el algoritmo puede resultar realmente util para calcular estadisticas que hechas por un ser humano puede resultar en una tarea tediosa y dificl de lograr."
      ],
      "metadata": {
        "id": "KenXeONXa7sH"
      }
    },
    {
      "cell_type": "markdown",
      "source": [
        "## Algoritmo 2/ Benchmark 2 en Cython"
      ],
      "metadata": {
        "id": "ZrnpPn9pbHC8"
      }
    },
    {
      "cell_type": "markdown",
      "source": [
        "A continuacion se presenta la transformacion del algoritmo 2 en el compilador Cython:"
      ],
      "metadata": {
        "id": "As5dTHB-eiTS"
      }
    },
    {
      "cell_type": "code",
      "source": [
        "\n",
        "import random\n",
        "import collections\n",
        "cdef calcularMediana(datos):\n",
        "  cdef int numero_datos,mitad\n",
        "  datos_ordenados = sorted(datos)\n",
        "  numero_datos = len(datos_ordenados)\n",
        "  mitad = (numero_datos - 1) // 2\n",
        "  if mitad % 2:\n",
        "        return datos_ordenados[mitad]\n",
        "  else:\n",
        "        return (datos_ordenados[mitad] + datos_ordenados[mitad + 1]) / 2.0\n",
        "\n",
        "cdef calcularMedia(datos):\n",
        "  cdef int sumatoria_datos, numero_datos\n",
        "  cdef double mitad\n",
        "  sumatoria_datos = sum(datos)\n",
        "  numero_datos = len(datos)\n",
        "  media = sumatoria_datos/numero_datos\n",
        "  return media\n",
        "\n",
        "cdef calcularModa(datos):\n",
        "    frecuencia = collections.Counter(datos)\n",
        "    Obtener_frecuencia = dict(frecuencia)\n",
        "    moda = [k for k, v in Obtener_frecuencia.items() if v == max(list(frecuencia.values()))]\n",
        "    return moda\n",
        "  \n",
        "\n",
        "cdef datosAleatorios(datos):\n",
        "  cdef int i = 0, n\n",
        "  for i in range(0,20):\n",
        "    n = random.randint(1,100)\n",
        "    datos.append(n)\n",
        "    i+= 1\n",
        "\n",
        "\n",
        "cdef Cymain2():\n",
        "  data = []\n",
        "  datosAleatorios(data)\n",
        "  print(\"Cadena de datos: \")\n",
        "  print(data)\n",
        "  print(\"La mediana de los datos es de:\", calcularMediana(data))\n",
        "  print(\"La media de los datos es de:  \", calcularMedia(data))\n",
        "  if(calcularModa(data) == data):\n",
        "    print(\"No hay moda / Ningun dato se repite mas de una vez\")\n",
        "  else:\n",
        "    print(\"La moda de los datos es de:  \", calcularModa(data))\n",
        "\n"
      ],
      "metadata": {
        "id": "tX2YZHtiefTM"
      },
      "execution_count": null,
      "outputs": []
    },
    {
      "cell_type": "markdown",
      "source": [
        "### Analisis Cython Algoritmo 2"
      ],
      "metadata": {
        "id": "tHciUz_tfRBM"
      }
    },
    {
      "cell_type": "markdown",
      "source": [
        "``` python\n",
        "cdef datosAleatorios(datos):\n",
        "  cdef int i = 0, n\n",
        "  for i in range(0,20):\n",
        "    n = random.randint(1,100)\n",
        "    datos.append(n)\n",
        "    i+= 1\n",
        "```\n",
        "\n",
        "Como se observa, las diferencias entre Python y Cython son bastante pequeñas para las funciones, donde solo se declaran las variables como datos estaticos para optimizar el programa, sin embargo en este algoritmo se encuentra un problema y es la declaracion de las listas en Cython, sin embargo las declaraciones de las variables se pueden realizar sin problema lo cual ayuda a optimizar el codigo\n"
      ],
      "metadata": {
        "id": "LlRR3G-eetGg"
      }
    },
    {
      "cell_type": "markdown",
      "source": [
        "#### Listas en Cython"
      ],
      "metadata": {
        "id": "zpMLQ-NcfesM"
      }
    },
    {
      "cell_type": "markdown",
      "source": [
        "En Cython no existe una referencia directa de las listas de Python ya que las listas en Python son en realidad, una coleccion de objetos, para lo cual C no tiene ningun homogeneo para el cual transformar en Cython.\n",
        "\n",
        "\n",
        "No es imposible crear listas optimizadas en Cython, sin embargo si resulta un proceso laborioso y dificil, ya que requiere de usar multiples tecnicas de programacion para lograrse ademas de importar la libreria numpy para que pueda funcionar:\n",
        "\n",
        "A continuacion se muestra un diseño experimental de tratar de implementar una lista optimizada en Cython, sin embargo dicho intento terminó en fracaso:\n",
        "\n",
        "```python\n",
        "import random\n",
        "import collections\n",
        "import numpy as np\n",
        "cimport numpy as np\n",
        "\n",
        "ctypedef np.npy_float FLOAT\n",
        "ctypedef np.npy_intp INTP\n",
        "\n",
        "def calcularMediana(np.ndarray[INTP, ndim=1, mode='c'] datos):\n",
        "  datos_ordenados = sorted(datos)\n",
        "  numero_datos = len(datos_ordenados)\n",
        "  mitad = (numero_datos - 1) // 2\n",
        "\n",
        "```\n",
        "[5]"
      ],
      "metadata": {
        "id": "EQvspa6TfhUb"
      }
    },
    {
      "cell_type": "markdown",
      "source": [
        "Por dicho motivo, el algoritmo 2 mantiene sus listas de Python y no se optimiza dicha variable a algun equivalente de Cython"
      ],
      "metadata": {
        "id": "J7bJFV21gr-U"
      }
    },
    {
      "cell_type": "markdown",
      "source": [
        "## Medida de Rendimiento del Algoritmo 2"
      ],
      "metadata": {
        "id": "iOyHL-5fg2OT"
      }
    },
    {
      "cell_type": "markdown",
      "source": [
        "Para la demostracion de resultados del Algoritmo 2, se realizaron 30 cargas las cuales representan 30 ejecuciones de cada programa, es decir 30 en python y 30 en Cython.\n",
        "\n",
        "Se calculo el tiempo de ejecucion de cada uno de los algoritmos, haciendo uso de la libreria *time* para medir dicho tiempo, sera la variable que usaremos para medir el rendimiento de cada uno de los algoritmos\n",
        "\n",
        "Se presentan ambos tiempos en un archivo CSV para su facil comprension, ademas utilizando las herramientas de python pandas, seaborn y plotlib entre otros para el analisis de resultados."
      ],
      "metadata": {
        "id": "ZbAuDpXIhGwq"
      }
    },
    {
      "cell_type": "code",
      "source": [
        "import pandas as pd \n",
        "from google.colab import drive \n",
        "drive.mount('/content/gdrive')\n",
        "Algoritmo2=pd.read_csv('/content/gdrive/MyDrive/Colab Notebooks/Parallel and Distributed Computing/Parcial Final/Tiempos-de-ejecucion-algoritmo2.csv')"
      ],
      "metadata": {
        "colab": {
          "base_uri": "https://localhost:8080/"
        },
        "id": "CvuQwY3Yjj9y",
        "outputId": "9b3a1416-131f-4258-8f91-6ad542c78b55"
      },
      "execution_count": 73,
      "outputs": [
        {
          "output_type": "stream",
          "name": "stdout",
          "text": [
            "Drive already mounted at /content/gdrive; to attempt to forcibly remount, call drive.mount(\"/content/gdrive\", force_remount=True).\n"
          ]
        }
      ]
    },
    {
      "cell_type": "code",
      "source": [
        "Algoritmo2"
      ],
      "metadata": {
        "colab": {
          "base_uri": "https://localhost:8080/",
          "height": 990
        },
        "id": "rN696QlujpHC",
        "outputId": "8a148183-1668-4892-a9a8-3f3205851270"
      },
      "execution_count": 74,
      "outputs": [
        {
          "output_type": "execute_result",
          "data": {
            "text/plain": [
              "       Python     Cython\n",
              "0   21.112421  14.447674\n",
              "1   21.507745  14.568882\n",
              "2   20.804587  16.784140\n",
              "3   21.302748  14.514029\n",
              "4   20.011879  14.220235\n",
              "5   21.611022  15.866045\n",
              "6   20.808572  15.809071\n",
              "7   21.413662  16.091568\n",
              "8   20.804198  16.537216\n",
              "9   20.534183  16.887969\n",
              "10  24.321300  16.573521\n",
              "11  21.654609  14.692040\n",
              "12  21.647885  15.603155\n",
              "13  21.691075  14.529160\n",
              "14  21.603482  16.497958\n",
              "15  21.842088  14.674011\n",
              "16  21.402864  14.372814\n",
              "17  20.299385  16.738831\n",
              "18  27.338129  16.805001\n",
              "19  21.311573  14.773822\n",
              "20  21.704369  14.103569\n",
              "21  21.436037  16.610658\n",
              "22  21.258123  15.074355\n",
              "23  21.349972  15.143772\n",
              "24  20.905102  16.522078\n",
              "25  20.803936  14.744075\n",
              "26  21.189279  16.204788\n",
              "27  21.955841  14.769595\n",
              "28  21.131340  16.482922\n",
              "29  20.328746  16.596528"
            ],
            "text/html": [
              "\n",
              "  <div id=\"df-261a1ee9-e3e0-4bd7-b735-e3d82d7c99c7\">\n",
              "    <div class=\"colab-df-container\">\n",
              "      <div>\n",
              "<style scoped>\n",
              "    .dataframe tbody tr th:only-of-type {\n",
              "        vertical-align: middle;\n",
              "    }\n",
              "\n",
              "    .dataframe tbody tr th {\n",
              "        vertical-align: top;\n",
              "    }\n",
              "\n",
              "    .dataframe thead th {\n",
              "        text-align: right;\n",
              "    }\n",
              "</style>\n",
              "<table border=\"1\" class=\"dataframe\">\n",
              "  <thead>\n",
              "    <tr style=\"text-align: right;\">\n",
              "      <th></th>\n",
              "      <th>Python</th>\n",
              "      <th>Cython</th>\n",
              "    </tr>\n",
              "  </thead>\n",
              "  <tbody>\n",
              "    <tr>\n",
              "      <th>0</th>\n",
              "      <td>21.112421</td>\n",
              "      <td>14.447674</td>\n",
              "    </tr>\n",
              "    <tr>\n",
              "      <th>1</th>\n",
              "      <td>21.507745</td>\n",
              "      <td>14.568882</td>\n",
              "    </tr>\n",
              "    <tr>\n",
              "      <th>2</th>\n",
              "      <td>20.804587</td>\n",
              "      <td>16.784140</td>\n",
              "    </tr>\n",
              "    <tr>\n",
              "      <th>3</th>\n",
              "      <td>21.302748</td>\n",
              "      <td>14.514029</td>\n",
              "    </tr>\n",
              "    <tr>\n",
              "      <th>4</th>\n",
              "      <td>20.011879</td>\n",
              "      <td>14.220235</td>\n",
              "    </tr>\n",
              "    <tr>\n",
              "      <th>5</th>\n",
              "      <td>21.611022</td>\n",
              "      <td>15.866045</td>\n",
              "    </tr>\n",
              "    <tr>\n",
              "      <th>6</th>\n",
              "      <td>20.808572</td>\n",
              "      <td>15.809071</td>\n",
              "    </tr>\n",
              "    <tr>\n",
              "      <th>7</th>\n",
              "      <td>21.413662</td>\n",
              "      <td>16.091568</td>\n",
              "    </tr>\n",
              "    <tr>\n",
              "      <th>8</th>\n",
              "      <td>20.804198</td>\n",
              "      <td>16.537216</td>\n",
              "    </tr>\n",
              "    <tr>\n",
              "      <th>9</th>\n",
              "      <td>20.534183</td>\n",
              "      <td>16.887969</td>\n",
              "    </tr>\n",
              "    <tr>\n",
              "      <th>10</th>\n",
              "      <td>24.321300</td>\n",
              "      <td>16.573521</td>\n",
              "    </tr>\n",
              "    <tr>\n",
              "      <th>11</th>\n",
              "      <td>21.654609</td>\n",
              "      <td>14.692040</td>\n",
              "    </tr>\n",
              "    <tr>\n",
              "      <th>12</th>\n",
              "      <td>21.647885</td>\n",
              "      <td>15.603155</td>\n",
              "    </tr>\n",
              "    <tr>\n",
              "      <th>13</th>\n",
              "      <td>21.691075</td>\n",
              "      <td>14.529160</td>\n",
              "    </tr>\n",
              "    <tr>\n",
              "      <th>14</th>\n",
              "      <td>21.603482</td>\n",
              "      <td>16.497958</td>\n",
              "    </tr>\n",
              "    <tr>\n",
              "      <th>15</th>\n",
              "      <td>21.842088</td>\n",
              "      <td>14.674011</td>\n",
              "    </tr>\n",
              "    <tr>\n",
              "      <th>16</th>\n",
              "      <td>21.402864</td>\n",
              "      <td>14.372814</td>\n",
              "    </tr>\n",
              "    <tr>\n",
              "      <th>17</th>\n",
              "      <td>20.299385</td>\n",
              "      <td>16.738831</td>\n",
              "    </tr>\n",
              "    <tr>\n",
              "      <th>18</th>\n",
              "      <td>27.338129</td>\n",
              "      <td>16.805001</td>\n",
              "    </tr>\n",
              "    <tr>\n",
              "      <th>19</th>\n",
              "      <td>21.311573</td>\n",
              "      <td>14.773822</td>\n",
              "    </tr>\n",
              "    <tr>\n",
              "      <th>20</th>\n",
              "      <td>21.704369</td>\n",
              "      <td>14.103569</td>\n",
              "    </tr>\n",
              "    <tr>\n",
              "      <th>21</th>\n",
              "      <td>21.436037</td>\n",
              "      <td>16.610658</td>\n",
              "    </tr>\n",
              "    <tr>\n",
              "      <th>22</th>\n",
              "      <td>21.258123</td>\n",
              "      <td>15.074355</td>\n",
              "    </tr>\n",
              "    <tr>\n",
              "      <th>23</th>\n",
              "      <td>21.349972</td>\n",
              "      <td>15.143772</td>\n",
              "    </tr>\n",
              "    <tr>\n",
              "      <th>24</th>\n",
              "      <td>20.905102</td>\n",
              "      <td>16.522078</td>\n",
              "    </tr>\n",
              "    <tr>\n",
              "      <th>25</th>\n",
              "      <td>20.803936</td>\n",
              "      <td>14.744075</td>\n",
              "    </tr>\n",
              "    <tr>\n",
              "      <th>26</th>\n",
              "      <td>21.189279</td>\n",
              "      <td>16.204788</td>\n",
              "    </tr>\n",
              "    <tr>\n",
              "      <th>27</th>\n",
              "      <td>21.955841</td>\n",
              "      <td>14.769595</td>\n",
              "    </tr>\n",
              "    <tr>\n",
              "      <th>28</th>\n",
              "      <td>21.131340</td>\n",
              "      <td>16.482922</td>\n",
              "    </tr>\n",
              "    <tr>\n",
              "      <th>29</th>\n",
              "      <td>20.328746</td>\n",
              "      <td>16.596528</td>\n",
              "    </tr>\n",
              "  </tbody>\n",
              "</table>\n",
              "</div>\n",
              "      <button class=\"colab-df-convert\" onclick=\"convertToInteractive('df-261a1ee9-e3e0-4bd7-b735-e3d82d7c99c7')\"\n",
              "              title=\"Convert this dataframe to an interactive table.\"\n",
              "              style=\"display:none;\">\n",
              "        \n",
              "  <svg xmlns=\"http://www.w3.org/2000/svg\" height=\"24px\"viewBox=\"0 0 24 24\"\n",
              "       width=\"24px\">\n",
              "    <path d=\"M0 0h24v24H0V0z\" fill=\"none\"/>\n",
              "    <path d=\"M18.56 5.44l.94 2.06.94-2.06 2.06-.94-2.06-.94-.94-2.06-.94 2.06-2.06.94zm-11 1L8.5 8.5l.94-2.06 2.06-.94-2.06-.94L8.5 2.5l-.94 2.06-2.06.94zm10 10l.94 2.06.94-2.06 2.06-.94-2.06-.94-.94-2.06-.94 2.06-2.06.94z\"/><path d=\"M17.41 7.96l-1.37-1.37c-.4-.4-.92-.59-1.43-.59-.52 0-1.04.2-1.43.59L10.3 9.45l-7.72 7.72c-.78.78-.78 2.05 0 2.83L4 21.41c.39.39.9.59 1.41.59.51 0 1.02-.2 1.41-.59l7.78-7.78 2.81-2.81c.8-.78.8-2.07 0-2.86zM5.41 20L4 18.59l7.72-7.72 1.47 1.35L5.41 20z\"/>\n",
              "  </svg>\n",
              "      </button>\n",
              "      \n",
              "  <style>\n",
              "    .colab-df-container {\n",
              "      display:flex;\n",
              "      flex-wrap:wrap;\n",
              "      gap: 12px;\n",
              "    }\n",
              "\n",
              "    .colab-df-convert {\n",
              "      background-color: #E8F0FE;\n",
              "      border: none;\n",
              "      border-radius: 50%;\n",
              "      cursor: pointer;\n",
              "      display: none;\n",
              "      fill: #1967D2;\n",
              "      height: 32px;\n",
              "      padding: 0 0 0 0;\n",
              "      width: 32px;\n",
              "    }\n",
              "\n",
              "    .colab-df-convert:hover {\n",
              "      background-color: #E2EBFA;\n",
              "      box-shadow: 0px 1px 2px rgba(60, 64, 67, 0.3), 0px 1px 3px 1px rgba(60, 64, 67, 0.15);\n",
              "      fill: #174EA6;\n",
              "    }\n",
              "\n",
              "    [theme=dark] .colab-df-convert {\n",
              "      background-color: #3B4455;\n",
              "      fill: #D2E3FC;\n",
              "    }\n",
              "\n",
              "    [theme=dark] .colab-df-convert:hover {\n",
              "      background-color: #434B5C;\n",
              "      box-shadow: 0px 1px 3px 1px rgba(0, 0, 0, 0.15);\n",
              "      filter: drop-shadow(0px 1px 2px rgba(0, 0, 0, 0.3));\n",
              "      fill: #FFFFFF;\n",
              "    }\n",
              "  </style>\n",
              "\n",
              "      <script>\n",
              "        const buttonEl =\n",
              "          document.querySelector('#df-261a1ee9-e3e0-4bd7-b735-e3d82d7c99c7 button.colab-df-convert');\n",
              "        buttonEl.style.display =\n",
              "          google.colab.kernel.accessAllowed ? 'block' : 'none';\n",
              "\n",
              "        async function convertToInteractive(key) {\n",
              "          const element = document.querySelector('#df-261a1ee9-e3e0-4bd7-b735-e3d82d7c99c7');\n",
              "          const dataTable =\n",
              "            await google.colab.kernel.invokeFunction('convertToInteractive',\n",
              "                                                     [key], {});\n",
              "          if (!dataTable) return;\n",
              "\n",
              "          const docLinkHtml = 'Like what you see? Visit the ' +\n",
              "            '<a target=\"_blank\" href=https://colab.research.google.com/notebooks/data_table.ipynb>data table notebook</a>'\n",
              "            + ' to learn more about interactive tables.';\n",
              "          element.innerHTML = '';\n",
              "          dataTable['output_type'] = 'display_data';\n",
              "          await google.colab.output.renderOutput(dataTable, element);\n",
              "          const docLink = document.createElement('div');\n",
              "          docLink.innerHTML = docLinkHtml;\n",
              "          element.appendChild(docLink);\n",
              "        }\n",
              "      </script>\n",
              "    </div>\n",
              "  </div>\n",
              "  "
            ]
          },
          "metadata": {},
          "execution_count": 74
        }
      ]
    },
    {
      "cell_type": "markdown",
      "source": [
        "**Todos los resultados del algoritmo 2 estan dados en milisegundos**"
      ],
      "metadata": {
        "id": "dmZfuWEGjx_c"
      }
    },
    {
      "cell_type": "markdown",
      "source": [
        "Como se puede observar, el rendimiento de Cython sigue siendo superior al de Python, sin embargo no es una diferencia tan grande a comparacion del Algoritmo 1"
      ],
      "metadata": {
        "id": "cXwCqR3ikAsw"
      }
    },
    {
      "cell_type": "markdown",
      "source": [
        "### Deteccion de Outliers"
      ],
      "metadata": {
        "id": "oVVNlpG1kP-e"
      }
    },
    {
      "cell_type": "code",
      "source": [
        "import seaborn as sns\n",
        "sns.boxplot(x=Algoritmo2['Python'])"
      ],
      "metadata": {
        "colab": {
          "base_uri": "https://localhost:8080/",
          "height": 296
        },
        "id": "UYFAvg5Wk0Oq",
        "outputId": "4ca2c706-a0be-495e-a978-53292973607c"
      },
      "execution_count": 75,
      "outputs": [
        {
          "output_type": "execute_result",
          "data": {
            "text/plain": [
              "<matplotlib.axes._subplots.AxesSubplot at 0x7f91398ff1d0>"
            ]
          },
          "metadata": {},
          "execution_count": 75
        },
        {
          "output_type": "display_data",
          "data": {
            "text/plain": [
              "<Figure size 432x288 with 1 Axes>"
            ],
            "image/png": "[encoded data removed]"
          },
          "metadata": {
            "needs_background": "light"
          }
        }
      ]
    },
    {
      "cell_type": "markdown",
      "source": [
        "Como se observa en el *boxplot* en python se tienen dos datos outliers los cuales se deben tomar con precaucion pues pueden afectar en gran medida a la media de los datos."
      ],
      "metadata": {
        "id": "jWk6dE_kmLpN"
      }
    },
    {
      "cell_type": "markdown",
      "source": [
        "Para hallar y eliminar aquellos outliers:"
      ],
      "metadata": {
        "id": "x49_4yJmmXcI"
      }
    },
    {
      "cell_type": "code",
      "source": [
        "Q1 = Algoritmo2.quantile(0.25)\n",
        "Q3 = Algoritmo2.quantile(0.75)\n",
        "IQR = Q3 - Q1\n",
        "print(IQR)"
      ],
      "metadata": {
        "colab": {
          "base_uri": "https://localhost:8080/"
        },
        "id": "1tsCM_U9mf0M",
        "outputId": "5746d95f-1f6b-4f4b-ffea-7ffb71fa00da"
      },
      "execution_count": 76,
      "outputs": [
        {
          "output_type": "stream",
          "name": "stdout",
          "text": [
            "Python    0.805965\n",
            "Cython    1.854913\n",
            "dtype: float64\n"
          ]
        }
      ]
    },
    {
      "cell_type": "code",
      "source": [
        "Algoritmo2 = Algoritmo2[~((Algoritmo2 < (Q1 - 1.5 * IQR)) |(Algoritmo2 > (Q3 + 1.5 * IQR))).any(axis=1)]\n",
        "Algoritmo2.shape"
      ],
      "metadata": {
        "colab": {
          "base_uri": "https://localhost:8080/"
        },
        "id": "tg21-l1WmolS",
        "outputId": "4114c981-d70b-42d7-f0fd-09fea08e8325"
      },
      "execution_count": 79,
      "outputs": [
        {
          "output_type": "execute_result",
          "data": {
            "text/plain": [
              "(28, 2)"
            ]
          },
          "metadata": {},
          "execution_count": 79
        }
      ]
    },
    {
      "cell_type": "code",
      "source": [
        "sns.boxplot(x=Algoritmo2['Python'])"
      ],
      "metadata": {
        "colab": {
          "base_uri": "https://localhost:8080/",
          "height": 296
        },
        "id": "cDbNECTam9SF",
        "outputId": "0e69b306-60d8-41d2-e2ba-c0f4722076ee"
      },
      "execution_count": 80,
      "outputs": [
        {
          "output_type": "execute_result",
          "data": {
            "text/plain": [
              "<matplotlib.axes._subplots.AxesSubplot at 0x7f9139bd2450>"
            ]
          },
          "metadata": {},
          "execution_count": 80
        },
        {
          "output_type": "display_data",
          "data": {
            "text/plain": [
              "<Figure size 432x288 with 1 Axes>"
            ],
            "image/png": "[encoded data removed]"
          },
          "metadata": {
            "needs_background": "light"
          }
        }
      ]
    },
    {
      "cell_type": "markdown",
      "source": [
        "Como se observa, se hallaron dos outliers y fueron eliminados gracias a los comandos usados, de esta forma estos datos no afectaran de ninguna forma a la media"
      ],
      "metadata": {
        "id": "UrnFwr6qm_5C"
      }
    },
    {
      "cell_type": "code",
      "source": [
        "import seaborn as sns\n",
        "sns.boxplot(x=Algoritmo2['Cython'])"
      ],
      "metadata": {
        "colab": {
          "base_uri": "https://localhost:8080/",
          "height": 296
        },
        "id": "23MWcxbVkYGw",
        "outputId": "e05b93eb-e9d5-46eb-8e43-6b010118e657"
      },
      "execution_count": 65,
      "outputs": [
        {
          "output_type": "execute_result",
          "data": {
            "text/plain": [
              "<matplotlib.axes._subplots.AxesSubplot at 0x7f9139a4ed10>"
            ]
          },
          "metadata": {},
          "execution_count": 65
        },
        {
          "output_type": "display_data",
          "data": {
            "text/plain": [
              "<Figure size 432x288 with 1 Axes>"
            ],
            "image/png": "[encoded data removed]"
          },
          "metadata": {
            "needs_background": "light"
          }
        }
      ]
    },
    {
      "cell_type": "markdown",
      "source": [
        "Para los datos de Cython no se presenta ningun outlier"
      ],
      "metadata": {
        "id": "FkCgvYO6nI5W"
      }
    },
    {
      "cell_type": "markdown",
      "source": [
        "### Medida de rendimiento en los tiempos de ejecucion:"
      ],
      "metadata": {
        "id": "4e6ili-znNdy"
      }
    },
    {
      "cell_type": "code",
      "source": [
        "print(\"Media de rendimiento Python\",Algoritmo2['Python'].mean())\n",
        "print(\"Media de rendimiento Cython\", Algoritmo2['Cython'].mean())\n",
        "print(\"Segun la media, Cython es\",Algoritmo2['Python'].mean()/Algoritmo2['Cython'].mean(), \"veces mas rapido que Python\")"
      ],
      "metadata": {
        "colab": {
          "base_uri": "https://localhost:8080/"
        },
        "id": "a9_tv758nZvb",
        "outputId": "2dc0990c-b0c9-46b6-ebd1-053c88983cbe"
      },
      "execution_count": 82,
      "outputs": [
        {
          "output_type": "stream",
          "name": "stdout",
          "text": [
            "Media de rendimiento Python 21.193811514285716\n",
            "Media de rendimiento Cython 15.49503421785714\n",
            "Segun la media, Cython es 1.3677808784611176 veces mas rapido que Python\n"
          ]
        }
      ]
    },
    {
      "cell_type": "markdown",
      "source": [
        "El resultado como se observa, es que Cython es mas eficiente que Python, sin embargo para este algoritmo no resulta tan util como para el anterior, esto debido a la falta de conversion en las listas de Python ya que estas listas como se menciono anteriormente no fueron transformadas a ningun equivalente de C, esto pudo haber provocado que el rendimiento no fuera tan bueno como aquel que se esperaba"
      ],
      "metadata": {
        "id": "v9WfYFGwngCz"
      }
    },
    {
      "cell_type": "markdown",
      "source": [
        "### Comparacion con graficas"
      ],
      "metadata": {
        "id": "jV54HVTynyjV"
      }
    },
    {
      "cell_type": "code",
      "source": [
        "import matplotlib.pyplot as plt\n",
        "\n",
        "labels = 'Python', 'Cython'\n",
        "sections = [Algoritmo2['Python'].mean(),Algoritmo2['Cython'].mean()]\n",
        "colors = ['g', 'b']\n",
        "\n",
        "plt.pie(sections, labels=labels, colors=colors,\n",
        "        startangle=90,\n",
        "        explode = (0, 0.1),\n",
        "        autopct = '%1.2f%%')\n",
        "\n",
        "plt.axis('equal')\n",
        "plt.title('Medida de rendimiento de Python y Cython')\n",
        "plt.show()"
      ],
      "metadata": {
        "colab": {
          "base_uri": "https://localhost:8080/",
          "height": 264
        },
        "id": "Ql37raDin79i",
        "outputId": "e614d908-01ab-4208-8b90-af90cea03b8d"
      },
      "execution_count": 85,
      "outputs": [
        {
          "output_type": "display_data",
          "data": {
            "text/plain": [
              "<Figure size 432x288 with 1 Axes>"
            ],
            "image/png": "[encoded data removed]"
          },
          "metadata": {}
        }
      ]
    },
    {
      "cell_type": "markdown",
      "source": [
        "Como se observa en la grafica, el rendimiento de Cython fue mayor que el de Python, es decir sus tiempos de ejecucion fueron menores, por lo tanto, en esta grafica de torta, Cython aparece mas pequeño y ocupa menor porcentaje que Python, sin embargo esto es debido a que los tiempos de Python fueron mayores que aquellos de Cython y esta grafica demuestra por cuanto. \n",
        "\n",
        "Por ende de la grafica se concluye que Cython es mas eficiente que Python pues sus tiempos de ejecucion fueron menores."
      ],
      "metadata": {
        "id": "eXnfeaF-oYyT"
      }
    },
    {
      "cell_type": "code",
      "source": [
        "import matplotlib.pyplot as plt\n",
        "plt.bar(Algoritmo2['Python'],Algoritmo2['Python'], label=\"Python\", color='g')\n",
        "plt.bar(Algoritmo2['Cython'],Algoritmo2['Cython'], label=\"Cython\", color='b')"
      ],
      "metadata": {
        "colab": {
          "base_uri": "https://localhost:8080/",
          "height": 282
        },
        "id": "HqQBxR3to5N0",
        "outputId": "043332aa-1a5d-46dd-a905-eab08545e65b"
      },
      "execution_count": 94,
      "outputs": [
        {
          "output_type": "execute_result",
          "data": {
            "text/plain": [
              "<BarContainer object of 28 artists>"
            ]
          },
          "metadata": {},
          "execution_count": 94
        },
        {
          "output_type": "display_data",
          "data": {
            "text/plain": [
              "<Figure size 432x288 with 1 Axes>"
            ],
            "image/png": "[encoded data removed]"
          },
          "metadata": {
            "needs_background": "light"
          }
        }
      ]
    },
    {
      "cell_type": "markdown",
      "source": [
        "El eje y representa los tiempos de ejecucion, mientras que el Eje x representa las cargas\n",
        "\n",
        "En esta grafica, la barra azul representa el rendimiento de Cython, mientras que la verde la de Python. Como se observa, el rendimiento de Cython fue mayor ya que sus tiempos de ejecucion fueron menores, mientras que para Python su rendimiento fue menor ya que sus tiempos de ejecucion fueron mayores\n",
        "\n",
        "Se concluye que Cython tiene unos tiempos un poco menores que los de Python para este algoritmo"
      ],
      "metadata": {
        "id": "46cW_7gDqSgP"
      }
    },
    {
      "cell_type": "markdown",
      "source": [
        "## Conclusiones del Algoritmo 2"
      ],
      "metadata": {
        "id": "QYxDFNUtq0FT"
      }
    },
    {
      "cell_type": "markdown",
      "source": [
        "Para el algoritmo dos se utilizaron multiples funciones de Python para comprobar si estas tenian la posibilidad de llamarse en Cython, y comprobamos que en efecto, en Cython es posible declarar funciones propias de Python como los diccionarios:\n",
        "\n",
        "```python\n",
        "cdef calcularModa(datos):\n",
        "    frecuencia = collections.Counter(datos)\n",
        "    Obtener_frecuencia = dict(frecuencia)\n",
        "    moda = [k for k, v in Obtener_frecuencia.items() if v == max(list(frecuencia.values()))]\n",
        "    return moda\n",
        "```\n",
        "Declaracion de un diccionario en Cython usando *dict*"
      ],
      "metadata": {
        "id": "vptNKh_Zq3P6"
      }
    },
    {
      "cell_type": "markdown",
      "source": [
        "Sin embargo, los tiempos de ejecucion comparados con Python y Cython no fueron tan distintos, aunque la diferencia existe, esta no fue tan importante y para programas basicos podrian pasarse por alto\n",
        "\n",
        "Esto no quiere decir que Cython sea inutil, ya que para programas mas grandes es muy importante optimizar todo el tiempo que nos sea posible, hasta el ultimo milisegundo es muy importante\n",
        "\n",
        "Ademas cabe destacar que los tiempos en Cython siempre son mejorables, es decir que mientras mas se optimice el codigo, menor sera el tiempo de ejecucion\n",
        "\n",
        "Por ultimo cabe destacar que Cython sigue siendo mas optimo que Python, un 15% mas optimo aproximadamente, lo cual resulta en una gran ayuda, ya que por mas poco que se pueda optimizar, sigue siendo tiempo que se reduce en la ejecucion y esto siempre es ganancia en un programa"
      ],
      "metadata": {
        "id": "P_mH11GPrR98"
      }
    },
    {
      "cell_type": "markdown",
      "source": [
        "# Conclusiones Generales"
      ],
      "metadata": {
        "id": "uexEs3EfsjZG"
      }
    },
    {
      "cell_type": "markdown",
      "source": [
        "Cython es un gran compilador y una gran ayuda para optimizar todos los programas existentes en Python, ya que con un poco de esfuerzo y declarando las variables como estaticas, los tiempos de ejecucion son reducidos en gran medida. Cython logra combinar exitosamente todas las ventajas que contiene C en Python, lo que nos permite un gran control sobre un codigo ya que podemos acceder a una gran optimizacion juntando la sintaxis comoda y las librerias utiles que contiene Python.\n",
        "\n",
        "Sin embargo Cython trae consigo multiples desventajas, ya que este puede resultar confuso y dificil de trabajar, ademas este no tiene tanto soporte como lo tiene Python, por ende es dificil buscar ayudas externas como sitios web que puedan resultar de ayuda. Ademas puede que la optimizacion no llegue a ser tan impactante como se espera que esta sea, haciendo que se puedan llegar a perder recursos y tiempo\n",
        "\n",
        "En conclusion Cython es una herramienta increiblemente poderosa si el usuario sabe como usarla, pues esta brinda una gran optimizacion frente a los codigos ordinarios de Python, lo cual es una gran ayuda para codigos grandes que requieren de mucho tiempo de optimizar, sin embargo esto requiere de una gran habilidad del programador, pues si no se usa Cython correctamente este puede proporcionar mas errores de los que inicialmente el programa podria llegar a tener y ademas puede hacer que el programa no funcione del todo. "
      ],
      "metadata": {
        "id": "jX21mcOfsmTA"
      }
    },
    {
      "cell_type": "markdown",
      "source": [
        "# Firma y despedida"
      ],
      "metadata": {
        "id": "woxAdBeVuBxQ"
      }
    },
    {
      "cell_type": "markdown",
      "source": [
        "Mi nombre es Daniel Esteban Molina Sanchez y este fue mi parcial 3 para la materia de Parallel y distributed computing, despues de muchas horas de trabajo se pudo dar la finalizacion del informe.\n",
        "\n",
        "Agradecimientos al profesor John Corredor Franco por su ayuda proporcionada para este informe\n",
        "Agradecimientos a mi familia por estarme apoyando a la hora de realizarlo\n",
        "Agradecimientos a todos los foros y personas que proporcionaron su ayuda a crear el informe\n",
        "\n",
        "Espero haya sido del agrado del lector. Muchas gracias."
      ],
      "metadata": {
        "id": "CHIPwfFEuF_g"
      }
    },
    {
      "cell_type": "markdown",
      "source": [
        "# <i> **Bibliografia** <i>"
      ],
      "metadata": {
        "id": "-YAb92Ool9g0"
      }
    },
    {
      "cell_type": "markdown",
      "source": [
        "[1]\n",
        "* https://aws.amazon.com/es/what-is/python/\n"
      ],
      "metadata": {
        "id": "lP_0fbuvmMwL"
      }
    },
    {
      "cell_type": "markdown",
      "source": [
        "[2] \n",
        "* https://informatica.uv.es/estguia/ATD/apuntes/laboratorio/Lenguaje-C.pdf"
      ],
      "metadata": {
        "id": "TwDEacAsmQ3q"
      }
    },
    {
      "cell_type": "markdown",
      "source": [
        "[3]\n",
        "* https://stackoverflow.com/questions/430182/is-c-strongly-typed#:~:text=To%20a%20C%20programmer%20strong%20typing%20means%20pressing%20the%20keys%20harder.&text=C%20is%20on%20the%20weak%20side%20in%20the%20typing%20continuum.\n",
        "\n",
        "* https://www.baeldung.com/cs/statically-vs-dynamically-typed-languages\n",
        "\n"
      ],
      "metadata": {
        "id": "VG4Jc9Ltg3Jk"
      }
    },
    {
      "cell_type": "markdown",
      "source": [
        "[4]\n",
        "* https://cython.org/"
      ],
      "metadata": {
        "id": "k5BNyvfMnCoK"
      }
    },
    {
      "cell_type": "markdown",
      "source": [
        "[5]\n",
        "* https://stackoverflow.com/questions/51268841/cython-declare-list-like-function-parameter"
      ],
      "metadata": {
        "id": "hKn-r_5-g_Qb"
      }
    }
  ]
}